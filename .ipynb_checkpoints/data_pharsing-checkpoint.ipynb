{
 "cells": [
  {
   "cell_type": "code",
   "execution_count": 1,
   "metadata": {},
   "outputs": [],
   "source": [
    "import pandas as pd\n",
    "import numpy as np\n",
    "import gspread\n",
    "from df2gspread import df2gspread as d2g\n",
    "import pickle\n",
    "import matplotlib.pyplot as plt"
   ]
  },
  {
   "cell_type": "code",
   "execution_count": 2,
   "metadata": {},
   "outputs": [],
   "source": [
    "from oauth2client.service_account import ServiceAccountCredentials\n",
    "\n",
    "scopes = ['https://spreadsheets.google.com/feeds',\n",
    "         'https://www.googleapis.com/auth/drive']\n",
    "\n",
    "credentials = ServiceAccountCredentials.from_json_keyfile_name(\n",
    "    'credentials.json', scopes = scopes)\n",
    "\n",
    "gc = gspread.authorize(credentials)"
   ]
  },
  {
   "cell_type": "markdown",
   "metadata": {},
   "source": [
    "#### table of ingredients's values pharsing and adjusting "
   ]
  },
  {
   "cell_type": "code",
   "execution_count": null,
   "metadata": {},
   "outputs": [],
   "source": [
    "gc = gspread.service_account(filename='credentials.json')\n",
    "sh = gc.open(\"value_table_new\")\n",
    "sheet_code = '1NmqoduhwuD2jdBrdvOnGT82opFTDMCFe68Itgq9UuOc'"
   ]
  },
  {
   "cell_type": "code",
   "execution_count": null,
   "metadata": {},
   "outputs": [],
   "source": [
    "# quantities_index = pd.DataFrame([[i, j] for i, j in zip(sheet.loc[0], sheet.loc[1])]).T\n",
    "# quantities_index.to_csv('csv_files/quantities_index.csv')"
   ]
  },
  {
   "cell_type": "code",
   "execution_count": null,
   "metadata": {},
   "outputs": [],
   "source": [
    "sheet = pd.DataFrame(sh.sheet1.get_all_values())\n",
    "sheet[0] = sheet[0].str.lower().str.strip(' ').str.replace('  ', ' ').str.replace('   ', ' ').str.replace('  ', ' ')\n",
    "sheet = sheet.set_index(0)\n",
    "sheet.index.name = None\n",
    "# sheet.columns = sheet.iloc[0]\n",
    "# sheet.columns.name = None\n",
    "# sheet = sheet[1:]"
   ]
  },
  {
   "cell_type": "code",
   "execution_count": null,
   "metadata": {
    "scrolled": true
   },
   "outputs": [],
   "source": [
    "d2g.upload(sheet, sheet_code, 'values-2', credentials=credentials, row_names=True)"
   ]
  },
  {
   "cell_type": "code",
   "execution_count": null,
   "metadata": {},
   "outputs": [],
   "source": [
    "alph = list({i[0]: i for i in sheet.index[1:]}.keys())"
   ]
  },
  {
   "cell_type": "code",
   "execution_count": null,
   "metadata": {},
   "outputs": [],
   "source": [
    "print(alph)"
   ]
  },
  {
   "cell_type": "code",
   "execution_count": null,
   "metadata": {},
   "outputs": [],
   "source": [
    "alph = ['a', 'b', 'c', 'd', 'e', 'f', 'g', 'h', 'i', 'k', 'l', 'm', 'n', 'o', 'p', 'q', 'r', 's', 't', 'u', 'v', 'w', 'y', 'z']\n",
    "alphabetical_index = {i:[] for i in alph}\n",
    "for i in sheet.index[1:]:\n",
    "    alphabetical_index[i[0]].append(i)"
   ]
  },
  {
   "cell_type": "code",
   "execution_count": null,
   "metadata": {},
   "outputs": [],
   "source": [
    "worksheet = sh.worksheet(\"alpha\")"
   ]
  },
  {
   "cell_type": "code",
   "execution_count": null,
   "metadata": {},
   "outputs": [],
   "source": [
    "for i, k in zip(alphabetical_index.values(), alphabetical_index.keys()):\n",
    "    worksheet.update(f'{k.upper()}1:{k.upper()}{1+len(i)}', np.array(i).reshape((len(i), 1)).tolist())"
   ]
  },
  {
   "cell_type": "markdown",
   "metadata": {},
   "source": [
    "#### Import recipies raw"
   ]
  },
  {
   "cell_type": "code",
   "execution_count": 3,
   "metadata": {},
   "outputs": [],
   "source": [
    "sh = gc.open(\"recipy_book\")\n",
    "sheet_code = '1GXkdJfN0VjOOhgIYy0TAllLQO2jQ2Z2ssTw5iRXlWJI' # recity book "
   ]
  },
  {
   "cell_type": "code",
   "execution_count": 4,
   "metadata": {},
   "outputs": [],
   "source": [
    "recipts = pd.DataFrame(sh.sheet1.get_all_values())\n",
    "recipts = recipts.apply(lambda x: x.str.strip(' '))\n",
    "recipts.columns = recipts.loc[0]\n",
    "recipts = recipts.loc[2:]"
   ]
  },
  {
   "cell_type": "code",
   "execution_count": 5,
   "metadata": {
    "scrolled": true
   },
   "outputs": [
    {
     "data": {
      "text/html": [
       "<div>\n",
       "<style scoped>\n",
       "    .dataframe tbody tr th:only-of-type {\n",
       "        vertical-align: middle;\n",
       "    }\n",
       "\n",
       "    .dataframe tbody tr th {\n",
       "        vertical-align: top;\n",
       "    }\n",
       "\n",
       "    .dataframe thead th {\n",
       "        text-align: right;\n",
       "    }\n",
       "</style>\n",
       "<table border=\"1\" class=\"dataframe\">\n",
       "  <thead>\n",
       "    <tr style=\"text-align: right;\">\n",
       "      <th></th>\n",
       "      <th>type</th>\n",
       "      <th>nome</th>\n",
       "      <th>ingredient</th>\n",
       "      <th>quantity</th>\n",
       "      <th>main_recipy_code</th>\n",
       "      <th>counter</th>\n",
       "    </tr>\n",
       "  </thead>\n",
       "  <tbody>\n",
       "    <tr>\n",
       "      <td>37</td>\n",
       "      <td></td>\n",
       "      <td>fiocchi di latte</td>\n",
       "      <td>fiocchi di latte magro</td>\n",
       "      <td>100</td>\n",
       "      <td>i08</td>\n",
       "      <td>20</td>\n",
       "    </tr>\n",
       "    <tr>\n",
       "      <td>38</td>\n",
       "      <td></td>\n",
       "      <td></td>\n",
       "      <td></td>\n",
       "      <td></td>\n",
       "      <td></td>\n",
       "      <td>no</td>\n",
       "    </tr>\n",
       "    <tr>\n",
       "      <td>39</td>\n",
       "      <td></td>\n",
       "      <td>crackers e marmellata</td>\n",
       "      <td>crackers non salati</td>\n",
       "      <td>40</td>\n",
       "      <td>i09</td>\n",
       "      <td>21</td>\n",
       "    </tr>\n",
       "    <tr>\n",
       "      <td>40</td>\n",
       "      <td></td>\n",
       "      <td></td>\n",
       "      <td>marmellata (albic.,fichi,mele cot.,pesche, pru...</td>\n",
       "      <td>40</td>\n",
       "      <td></td>\n",
       "      <td>21</td>\n",
       "    </tr>\n",
       "    <tr>\n",
       "      <td>41</td>\n",
       "      <td></td>\n",
       "      <td></td>\n",
       "      <td></td>\n",
       "      <td></td>\n",
       "      <td></td>\n",
       "      <td>no</td>\n",
       "    </tr>\n",
       "  </tbody>\n",
       "</table>\n",
       "</div>"
      ],
      "text/plain": [
       "0  type                   nome  \\\n",
       "37            fiocchi di latte   \n",
       "38                               \n",
       "39       crackers e marmellata   \n",
       "40                               \n",
       "41                               \n",
       "\n",
       "0                                          ingredient quantity  \\\n",
       "37                             fiocchi di latte magro      100   \n",
       "38                                                               \n",
       "39                                crackers non salati       40   \n",
       "40  marmellata (albic.,fichi,mele cot.,pesche, pru...       40   \n",
       "41                                                               \n",
       "\n",
       "0  main_recipy_code counter  \n",
       "37              i08      20  \n",
       "38                       no  \n",
       "39              i09      21  \n",
       "40                       21  \n",
       "41                       no  "
      ]
     },
     "execution_count": 5,
     "metadata": {},
     "output_type": "execute_result"
    }
   ],
   "source": [
    "# adjust formatting \n",
    "counter_series = []\n",
    "counter = 0\n",
    "for i in range(len(recipts)):\n",
    "    row = recipts.iloc[i]\n",
    "    if row['main_recipy_code'] != '':\n",
    "        counter += 1\n",
    "        counter_series.append(counter)\n",
    "    else:\n",
    "        if row['quantity'] != '':\n",
    "            counter_series.append(counter)\n",
    "        else:\n",
    "            counter_series.append('no')\n",
    "recipts['counter'] = counter_series\n",
    "recipts.iloc[35:40]"
   ]
  },
  {
   "cell_type": "code",
   "execution_count": 6,
   "metadata": {},
   "outputs": [],
   "source": [
    "# drop empty rows\n",
    "recipts = recipts[recipts['counter'] != 'no']\n",
    "recipts['counter'] = recipts['counter'] - 1"
   ]
  },
  {
   "cell_type": "code",
   "execution_count": 7,
   "metadata": {},
   "outputs": [],
   "source": [
    "recipy_code_map = {\n",
    "    'i': 'snack',\n",
    "    'm': 'dinner',\n",
    "    'b': 'breakfast',\n",
    "    'u': 'universal',\n",
    "    's': 'veg_side',\n",
    "    'c': 'carb_side',\n",
    "    'p': 'lunch'\n",
    "}"
   ]
  },
  {
   "cell_type": "code",
   "execution_count": 8,
   "metadata": {},
   "outputs": [],
   "source": [
    "# create new clean database\n",
    "clean_rec = recipts.groupby('counter').agg(list)\n",
    "clean_rec[['type', 'nome', 'main_recipy_code']] = clean_rec[['type', 'nome', 'main_recipy_code']].applymap(\n",
    "    lambda x: x[0])\n",
    "clean_rec['type'] = clean_rec['main_recipy_code'].apply(lambda x: recipy_code_map[x[0]])"
   ]
  },
  {
   "cell_type": "code",
   "execution_count": 9,
   "metadata": {},
   "outputs": [],
   "source": [
    "# unstack levels and create new rows for every element in list \n",
    "s = clean_rec[['ingredient', 'quantity']].apply(pd.Series.explode)\n",
    "clean_rec = clean_rec.drop(['ingredient', 'quantity'], axis = 1).join(s)"
   ]
  },
  {
   "cell_type": "code",
   "execution_count": 10,
   "metadata": {},
   "outputs": [
    {
     "data": {
      "text/html": [
       "<div>\n",
       "<style scoped>\n",
       "    .dataframe tbody tr th:only-of-type {\n",
       "        vertical-align: middle;\n",
       "    }\n",
       "\n",
       "    .dataframe tbody tr th {\n",
       "        vertical-align: top;\n",
       "    }\n",
       "\n",
       "    .dataframe thead th {\n",
       "        text-align: right;\n",
       "    }\n",
       "</style>\n",
       "<table border=\"1\" class=\"dataframe\">\n",
       "  <thead>\n",
       "    <tr style=\"text-align: right;\">\n",
       "      <th>descrizione</th>\n",
       "      <th>Parte edibile</th>\n",
       "      <th>Acqua</th>\n",
       "      <th>Energia - kcal</th>\n",
       "      <th>Energia - kj</th>\n",
       "      <th>Proteine totali</th>\n",
       "      <th>Proteine animali</th>\n",
       "      <th>Proteine vegetali</th>\n",
       "      <th>Lipidi totali</th>\n",
       "      <th>Lipidi animali</th>\n",
       "      <th>Lipidi vegetali</th>\n",
       "      <th>...</th>\n",
       "      <th>B2</th>\n",
       "      <th>Niacina</th>\n",
       "      <th>Vit. C</th>\n",
       "      <th>Vit. B6</th>\n",
       "      <th>Acido Folico</th>\n",
       "      <th>Retinolo equivalenti</th>\n",
       "      <th>Vit. A</th>\n",
       "      <th>b-carotene</th>\n",
       "      <th>Vit. E</th>\n",
       "      <th>Vit. D</th>\n",
       "    </tr>\n",
       "    <tr>\n",
       "      <th>0</th>\n",
       "      <th></th>\n",
       "      <th></th>\n",
       "      <th></th>\n",
       "      <th></th>\n",
       "      <th></th>\n",
       "      <th></th>\n",
       "      <th></th>\n",
       "      <th></th>\n",
       "      <th></th>\n",
       "      <th></th>\n",
       "      <th></th>\n",
       "      <th></th>\n",
       "      <th></th>\n",
       "      <th></th>\n",
       "      <th></th>\n",
       "      <th></th>\n",
       "      <th></th>\n",
       "      <th></th>\n",
       "      <th></th>\n",
       "      <th></th>\n",
       "      <th></th>\n",
       "    </tr>\n",
       "  </thead>\n",
       "  <tbody>\n",
       "    <tr>\n",
       "      <td>acciughe o alici</td>\n",
       "      <td>75</td>\n",
       "      <td>76.5</td>\n",
       "      <td>96</td>\n",
       "      <td>402</td>\n",
       "      <td>16.8</td>\n",
       "      <td>16.8</td>\n",
       "      <td>0</td>\n",
       "      <td>2.6</td>\n",
       "      <td>2.6</td>\n",
       "      <td>0</td>\n",
       "      <td>...</td>\n",
       "      <td>0.26</td>\n",
       "      <td>14</td>\n",
       "      <td>0</td>\n",
       "      <td>0.14</td>\n",
       "      <td>9</td>\n",
       "      <td>32</td>\n",
       "      <td>32</td>\n",
       "      <td>0</td>\n",
       "      <td>0.29</td>\n",
       "      <td>11</td>\n",
       "    </tr>\n",
       "    <tr>\n",
       "      <td>acciughe o alici sott'olio</td>\n",
       "      <td>100</td>\n",
       "      <td>56</td>\n",
       "      <td>206</td>\n",
       "      <td>862</td>\n",
       "      <td>25.9</td>\n",
       "      <td>25.9</td>\n",
       "      <td>0</td>\n",
       "      <td>11.3</td>\n",
       "      <td>6.6</td>\n",
       "      <td>4.7</td>\n",
       "      <td>...</td>\n",
       "      <td>0.2</td>\n",
       "      <td>6.5</td>\n",
       "      <td>0</td>\n",
       "      <td>0.18</td>\n",
       "      <td>8</td>\n",
       "      <td>58</td>\n",
       "      <td>58</td>\n",
       "      <td>0</td>\n",
       "      <td>0.31</td>\n",
       "      <td>5</td>\n",
       "    </tr>\n",
       "    <tr>\n",
       "      <td>acciughe o alici sotto sale</td>\n",
       "      <td>50</td>\n",
       "      <td>53.8</td>\n",
       "      <td>128</td>\n",
       "      <td>536</td>\n",
       "      <td>25</td>\n",
       "      <td>25</td>\n",
       "      <td>0</td>\n",
       "      <td>3.1</td>\n",
       "      <td>3.1</td>\n",
       "      <td>0</td>\n",
       "      <td>...</td>\n",
       "      <td>0.26</td>\n",
       "      <td>14</td>\n",
       "      <td>0</td>\n",
       "      <td>0.14</td>\n",
       "      <td>8</td>\n",
       "      <td>55</td>\n",
       "      <td>55</td>\n",
       "      <td>0</td>\n",
       "      <td>0.29</td>\n",
       "      <td>4.6</td>\n",
       "    </tr>\n",
       "    <tr>\n",
       "      <td>aceto</td>\n",
       "      <td>100</td>\n",
       "      <td>99</td>\n",
       "      <td>4</td>\n",
       "      <td>17</td>\n",
       "      <td>0.4</td>\n",
       "      <td>0</td>\n",
       "      <td>0.4</td>\n",
       "      <td>0</td>\n",
       "      <td>0</td>\n",
       "      <td>0</td>\n",
       "      <td>...</td>\n",
       "      <td>0</td>\n",
       "      <td>0</td>\n",
       "      <td>0</td>\n",
       "      <td>0</td>\n",
       "      <td>0</td>\n",
       "      <td>0</td>\n",
       "      <td>0</td>\n",
       "      <td>0</td>\n",
       "      <td>0</td>\n",
       "      <td>0</td>\n",
       "    </tr>\n",
       "    <tr>\n",
       "      <td>acqua</td>\n",
       "      <td>100</td>\n",
       "      <td>99.9</td>\n",
       "      <td>0</td>\n",
       "      <td>0</td>\n",
       "      <td>0</td>\n",
       "      <td>0</td>\n",
       "      <td>0</td>\n",
       "      <td>0</td>\n",
       "      <td>0</td>\n",
       "      <td>0</td>\n",
       "      <td>...</td>\n",
       "      <td>0</td>\n",
       "      <td>0</td>\n",
       "      <td>0</td>\n",
       "      <td>0</td>\n",
       "      <td>0</td>\n",
       "      <td>0</td>\n",
       "      <td>0</td>\n",
       "      <td>0</td>\n",
       "      <td>0</td>\n",
       "      <td>0</td>\n",
       "    </tr>\n",
       "  </tbody>\n",
       "</table>\n",
       "<p>5 rows × 40 columns</p>\n",
       "</div>"
      ],
      "text/plain": [
       "descrizione                 Parte edibile Acqua Energia - kcal Energia - kj  \\\n",
       "0                                                                             \n",
       "acciughe o alici                       75  76.5             96          402   \n",
       "acciughe o alici sott'olio            100    56            206          862   \n",
       "acciughe o alici sotto sale            50  53.8            128          536   \n",
       "aceto                                 100    99              4           17   \n",
       "acqua                                 100  99.9              0            0   \n",
       "\n",
       "descrizione                 Proteine totali Proteine animali  \\\n",
       "0                                                              \n",
       "acciughe o alici                       16.8             16.8   \n",
       "acciughe o alici sott'olio             25.9             25.9   \n",
       "acciughe o alici sotto sale              25               25   \n",
       "aceto                                   0.4                0   \n",
       "acqua                                     0                0   \n",
       "\n",
       "descrizione                 Proteine vegetali Lipidi totali Lipidi animali  \\\n",
       "0                                                                            \n",
       "acciughe o alici                            0           2.6            2.6   \n",
       "acciughe o alici sott'olio                  0          11.3            6.6   \n",
       "acciughe o alici sotto sale                 0           3.1            3.1   \n",
       "aceto                                     0.4             0              0   \n",
       "acqua                                       0             0              0   \n",
       "\n",
       "descrizione                 Lipidi vegetali  ...    B2 Niacina Vit. C Vit. B6  \\\n",
       "0                                            ...                                \n",
       "acciughe o alici                          0  ...  0.26      14      0    0.14   \n",
       "acciughe o alici sott'olio              4.7  ...   0.2     6.5      0    0.18   \n",
       "acciughe o alici sotto sale               0  ...  0.26      14      0    0.14   \n",
       "aceto                                     0  ...     0       0      0       0   \n",
       "acqua                                     0  ...     0       0      0       0   \n",
       "\n",
       "descrizione                 Acido Folico Retinolo equivalenti Vit. A  \\\n",
       "0                                                                      \n",
       "acciughe o alici                       9                   32     32   \n",
       "acciughe o alici sott'olio             8                   58     58   \n",
       "acciughe o alici sotto sale            8                   55     55   \n",
       "aceto                                  0                    0      0   \n",
       "acqua                                  0                    0      0   \n",
       "\n",
       "descrizione                 b-carotene Vit. E Vit. D  \n",
       "0                                                     \n",
       "acciughe o alici                     0   0.29     11  \n",
       "acciughe o alici sott'olio           0   0.31      5  \n",
       "acciughe o alici sotto sale          0   0.29    4.6  \n",
       "aceto                                0      0      0  \n",
       "acqua                                0      0      0  \n",
       "\n",
       "[5 rows x 40 columns]"
      ]
     },
     "execution_count": 10,
     "metadata": {},
     "output_type": "execute_result"
    }
   ],
   "source": [
    "# get clean ingredient values table \n",
    "sh = gc.open(\"value_table_new\")\n",
    "sheet_code = '1NmqoduhwuD2jdBrdvOnGT82opFTDMCFe68Itgq9UuOc' #  value tables values-2\n",
    "ingredients = pd.DataFrame(sh.get_worksheet(2).get_all_values())\n",
    "ingredients = ingredients.set_index(ingredients[0])[1:]\n",
    "ingredients = ingredients.drop(0, axis = 1)\n",
    "ingredients.columns = ingredients.iloc[0]\n",
    "ingredients = ingredients.drop('descrizione')\n",
    "ingredients = ingredients[ingredients.columns[:-4]]\n",
    "ingredients.head()"
   ]
  },
  {
   "cell_type": "code",
   "execution_count": 11,
   "metadata": {},
   "outputs": [
    {
     "name": "stdout",
     "output_type": "stream",
     "text": [
      "peperoni\n",
      "peperoni\n",
      "piselli\n"
     ]
    }
   ],
   "source": [
    "# check that every ingredient in the repies list is present in the value table \n",
    "for i in clean_rec['ingredient']:\n",
    "    if i not in ingredients.index:\n",
    "        print(i)"
   ]
  },
  {
   "cell_type": "code",
   "execution_count": 12,
   "metadata": {},
   "outputs": [],
   "source": [
    "correct_ingredient = {\n",
    "    'piselli': 'piselli surgelati',\n",
    "    'peperoni': 'peperoni dolci',\n",
    "}"
   ]
  },
  {
   "cell_type": "code",
   "execution_count": 13,
   "metadata": {},
   "outputs": [],
   "source": [
    "clean_rec['ingredient'] = clean_rec['ingredient'].replace(\n",
    "    ['piselli', 'peperoni'], ['piselli surgelati', 'peperoni dolci'])"
   ]
  },
  {
   "cell_type": "code",
   "execution_count": 14,
   "metadata": {
    "scrolled": false
   },
   "outputs": [
    {
     "data": {
      "text/html": [
       "<div>\n",
       "<style scoped>\n",
       "    .dataframe tbody tr th:only-of-type {\n",
       "        vertical-align: middle;\n",
       "    }\n",
       "\n",
       "    .dataframe tbody tr th {\n",
       "        vertical-align: top;\n",
       "    }\n",
       "\n",
       "    .dataframe thead th {\n",
       "        text-align: right;\n",
       "    }\n",
       "</style>\n",
       "<table border=\"1\" class=\"dataframe\">\n",
       "  <thead>\n",
       "    <tr style=\"text-align: right;\">\n",
       "      <th></th>\n",
       "      <th>type</th>\n",
       "      <th>nome</th>\n",
       "      <th>main_recipy_code</th>\n",
       "      <th>ingredient</th>\n",
       "      <th>quantity</th>\n",
       "      <th>Parte edibile</th>\n",
       "      <th>Acqua</th>\n",
       "      <th>Energia - kcal</th>\n",
       "      <th>Energia - kj</th>\n",
       "      <th>Proteine totali</th>\n",
       "      <th>...</th>\n",
       "      <th>B2</th>\n",
       "      <th>Niacina</th>\n",
       "      <th>Vit. C</th>\n",
       "      <th>Vit. B6</th>\n",
       "      <th>Acido Folico</th>\n",
       "      <th>Retinolo equivalenti</th>\n",
       "      <th>Vit. A</th>\n",
       "      <th>b-carotene</th>\n",
       "      <th>Vit. E</th>\n",
       "      <th>Vit. D</th>\n",
       "    </tr>\n",
       "    <tr>\n",
       "      <th>counter</th>\n",
       "      <th></th>\n",
       "      <th></th>\n",
       "      <th></th>\n",
       "      <th></th>\n",
       "      <th></th>\n",
       "      <th></th>\n",
       "      <th></th>\n",
       "      <th></th>\n",
       "      <th></th>\n",
       "      <th></th>\n",
       "      <th></th>\n",
       "      <th></th>\n",
       "      <th></th>\n",
       "      <th></th>\n",
       "      <th></th>\n",
       "      <th></th>\n",
       "      <th></th>\n",
       "      <th></th>\n",
       "      <th></th>\n",
       "      <th></th>\n",
       "      <th></th>\n",
       "    </tr>\n",
       "  </thead>\n",
       "  <tbody>\n",
       "    <tr>\n",
       "      <td>0</td>\n",
       "      <td>snack</td>\n",
       "      <td>frutta secca 1</td>\n",
       "      <td>i01</td>\n",
       "      <td>arachidi tostate</td>\n",
       "      <td>20</td>\n",
       "      <td>65</td>\n",
       "      <td>2.3</td>\n",
       "      <td>597</td>\n",
       "      <td>2498</td>\n",
       "      <td>29</td>\n",
       "      <td>...</td>\n",
       "      <td>0.08</td>\n",
       "      <td>14</td>\n",
       "      <td>0</td>\n",
       "      <td>0.54</td>\n",
       "      <td>66</td>\n",
       "      <td>0</td>\n",
       "      <td>0</td>\n",
       "      <td>0</td>\n",
       "      <td>1.11</td>\n",
       "      <td>0</td>\n",
       "    </tr>\n",
       "    <tr>\n",
       "      <td>1</td>\n",
       "      <td>snack</td>\n",
       "      <td>frutta secca 2</td>\n",
       "      <td>i01</td>\n",
       "      <td>arachidi tostate e salate</td>\n",
       "      <td>20</td>\n",
       "      <td>100</td>\n",
       "      <td>1.9</td>\n",
       "      <td>602</td>\n",
       "      <td>2519</td>\n",
       "      <td>24.5</td>\n",
       "      <td>...</td>\n",
       "      <td>0.1</td>\n",
       "      <td>13.6</td>\n",
       "      <td>0</td>\n",
       "      <td>0.63</td>\n",
       "      <td>52</td>\n",
       "      <td>0</td>\n",
       "      <td>0</td>\n",
       "      <td>0</td>\n",
       "      <td>0.66</td>\n",
       "      <td>0</td>\n",
       "    </tr>\n",
       "  </tbody>\n",
       "</table>\n",
       "<p>2 rows × 45 columns</p>\n",
       "</div>"
      ],
      "text/plain": [
       "          type            nome main_recipy_code                 ingredient  \\\n",
       "counter                                                                      \n",
       "0        snack  frutta secca 1              i01           arachidi tostate   \n",
       "1        snack  frutta secca 2              i01  arachidi tostate e salate   \n",
       "\n",
       "        quantity Parte edibile Acqua Energia - kcal Energia - kj  \\\n",
       "counter                                                            \n",
       "0             20            65   2.3            597         2498   \n",
       "1             20           100   1.9            602         2519   \n",
       "\n",
       "        Proteine totali  ...    B2 Niacina Vit. C Vit. B6 Acido Folico  \\\n",
       "counter                  ...                                             \n",
       "0                    29  ...  0.08      14      0    0.54           66   \n",
       "1                  24.5  ...   0.1    13.6      0    0.63           52   \n",
       "\n",
       "        Retinolo equivalenti Vit. A b-carotene Vit. E Vit. D  \n",
       "counter                                                       \n",
       "0                          0      0          0   1.11      0  \n",
       "1                          0      0          0   0.66      0  \n",
       "\n",
       "[2 rows x 45 columns]"
      ]
     },
     "execution_count": 14,
     "metadata": {},
     "output_type": "execute_result"
    }
   ],
   "source": [
    "rec_values = clean_rec.merge(ingredients, left_on = 'ingredient', right_index = True)\n",
    "rec_values.head(2)"
   ]
  },
  {
   "cell_type": "markdown",
   "metadata": {},
   "source": [
    "#### Change column type "
   ]
  },
  {
   "cell_type": "code",
   "execution_count": 15,
   "metadata": {},
   "outputs": [],
   "source": [
    "# change column type\n",
    "rec_values[rec_values.columns[4:-4]] = rec_values[rec_values.columns[4:-4]].astype('float')"
   ]
  },
  {
   "cell_type": "markdown",
   "metadata": {},
   "source": [
    "#### Make copies of recipies "
   ]
  },
  {
   "cell_type": "code",
   "execution_count": 16,
   "metadata": {
    "scrolled": true
   },
   "outputs": [
    {
     "data": {
      "text/html": [
       "<div>\n",
       "<style scoped>\n",
       "    .dataframe tbody tr th:only-of-type {\n",
       "        vertical-align: middle;\n",
       "    }\n",
       "\n",
       "    .dataframe tbody tr th {\n",
       "        vertical-align: top;\n",
       "    }\n",
       "\n",
       "    .dataframe thead th {\n",
       "        text-align: right;\n",
       "    }\n",
       "</style>\n",
       "<table border=\"1\" class=\"dataframe\">\n",
       "  <thead>\n",
       "    <tr style=\"text-align: right;\">\n",
       "      <th></th>\n",
       "      <th>0</th>\n",
       "      <th>1</th>\n",
       "    </tr>\n",
       "  </thead>\n",
       "  <tbody>\n",
       "    <tr>\n",
       "      <td>0</td>\n",
       "      <td>burro</td>\n",
       "      <td>margarina vegetale</td>\n",
       "    </tr>\n",
       "    <tr>\n",
       "      <td>1</td>\n",
       "      <td>pasta di semola integrale</td>\n",
       "      <td>pasta proteica foodspring</td>\n",
       "    </tr>\n",
       "    <tr>\n",
       "      <td>2</td>\n",
       "      <td>muesli</td>\n",
       "      <td>muesli proteico foodspring</td>\n",
       "    </tr>\n",
       "    <tr>\n",
       "      <td>3</td>\n",
       "      <td>burro di arachidi</td>\n",
       "      <td>burro di arachidi foodspring</td>\n",
       "    </tr>\n",
       "    <tr>\n",
       "      <td>4</td>\n",
       "      <td>fiocchi di avena</td>\n",
       "      <td>avena istantanea foodspring</td>\n",
       "    </tr>\n",
       "    <tr>\n",
       "      <td>5</td>\n",
       "      <td>uovo di gallina, intero</td>\n",
       "      <td>uovo di gallina, albume</td>\n",
       "    </tr>\n",
       "  </tbody>\n",
       "</table>\n",
       "</div>"
      ],
      "text/plain": [
       "                           0                             1\n",
       "0                      burro            margarina vegetale\n",
       "1  pasta di semola integrale     pasta proteica foodspring\n",
       "2                     muesli    muesli proteico foodspring\n",
       "3          burro di arachidi  burro di arachidi foodspring\n",
       "4           fiocchi di avena   avena istantanea foodspring\n",
       "5    uovo di gallina, intero       uovo di gallina, albume"
      ]
     },
     "execution_count": 16,
     "metadata": {},
     "output_type": "execute_result"
    }
   ],
   "source": [
    "sh = gc.open(\"recipy_book\")\n",
    "subs = pd.DataFrame(sh.get_worksheet(3).get_all_values())\n",
    "subs"
   ]
  },
  {
   "cell_type": "code",
   "execution_count": 17,
   "metadata": {},
   "outputs": [],
   "source": [
    "rec_values['number_code'] = rec_values.index"
   ]
  },
  {
   "cell_type": "code",
   "execution_count": 18,
   "metadata": {},
   "outputs": [],
   "source": [
    "# rec_values.to_pickle('pickle_files/rec_values.pkl')"
   ]
  },
  {
   "cell_type": "code",
   "execution_count": null,
   "metadata": {},
   "outputs": [],
   "source": [
    "# rec_values = pd.read_pickle('pickle_files/rec_values.pkl')"
   ]
  },
  {
   "cell_type": "code",
   "execution_count": 19,
   "metadata": {},
   "outputs": [
    {
     "name": "stdout",
     "output_type": "stream",
     "text": [
      "substituting burro ...                              \r"
     ]
    },
    {
     "name": "stderr",
     "output_type": "stream",
     "text": [
      "/Users/albertoarletti/opt/anaconda3/lib/python3.7/site-packages/pandas/core/indexing.py:494: SettingWithCopyWarning: \n",
      "A value is trying to be set on a copy of a slice from a DataFrame.\n",
      "Try using .loc[row_indexer,col_indexer] = value instead\n",
      "\n",
      "See the caveats in the documentation: http://pandas.pydata.org/pandas-docs/stable/user_guide/indexing.html#returning-a-view-versus-a-copy\n",
      "  self.obj[item] = s\n"
     ]
    },
    {
     "name": "stdout",
     "output_type": "stream",
     "text": [
      "substituting uovo di gallina, intero ...                                \r"
     ]
    }
   ],
   "source": [
    "initial_len = len(rec_values)\n",
    "# create substitute recipts and substitute them \n",
    "for ings in subs.index:\n",
    "    \n",
    "    ing = subs.loc[ings][0]\n",
    "    print(f'substituting {ing} ...' + ' ' * 30, end = '\\r', flush = True)\n",
    "    guilty_names = rec_values[rec_values['ingredient'] == ing]['nome']\n",
    "\n",
    "    for rec in guilty_names:\n",
    "        # find recipt to change\n",
    "        guilty_rec = rec_values[rec_values['nome'] == rec]\n",
    "        # change ingredient values \n",
    "        guilty_rec.loc[guilty_rec['ingredient'] == ing, ingredients.loc[\n",
    "            subs.loc[ings][1]].index] = ingredients.loc[subs.loc[ings][1]].values.astype('float')\n",
    "        # change ingredient name\n",
    "        guilty_rec = guilty_rec.replace(ing, subs.loc[ings][1])\n",
    "        # change recipt name\n",
    "        # print(guilty_rec)\n",
    "        guilty_rec = guilty_rec.replace(\n",
    "            guilty_rec['nome'].iloc[0], guilty_rec['nome'].iloc[0] + f' variante {subs.loc[ings][1]}')\n",
    "        # drop old recipt\n",
    "        rec_values = rec_values.drop(guilty_rec.index)\n",
    "        # append new one \n",
    "        rec_values = rec_values.append(guilty_rec)\n",
    "        \n",
    "assert initial_len == len(rec_values), \"length should have been the same\""
   ]
  },
  {
   "cell_type": "markdown",
   "metadata": {},
   "source": [
    "#### Change value of each row element based on the weight of the ingredient"
   ]
  },
  {
   "cell_type": "code",
   "execution_count": 20,
   "metadata": {},
   "outputs": [],
   "source": [
    "# change row values based on weight \n",
    "rec_values[rec_values.columns[5:-5]] = rec_values[rec_values.columns[5:-5]].multiply(\n",
    "    rec_values['quantity'] / 100, axis = 'index')"
   ]
  },
  {
   "cell_type": "code",
   "execution_count": 21,
   "metadata": {},
   "outputs": [],
   "source": [
    "rec_values.to_pickle('pickle_files/rec_values.pkl')"
   ]
  },
  {
   "cell_type": "markdown",
   "metadata": {},
   "source": [
    "#### weight and non weight ingredients"
   ]
  },
  {
   "cell_type": "code",
   "execution_count": null,
   "metadata": {},
   "outputs": [],
   "source": [
    "non_weight = ['cipolle',\n",
    "              'peperoni gialli',\n",
    "              'pomodoro conserva (sostanza secca 30%)',\n",
    "              'brodo vegetale',\n",
    "              'noce moscata',\n",
    "              'zucchine',\n",
    "              'carote',\n",
    "              'spinaci',\n",
    "              'piselli surgelati',\n",
    "              'pomodori da insalata',\n",
    "              'broccolo a testa',\n",
    "              'alloro secco',\n",
    "              'rosmarino secco',\n",
    "              'peperoni dolci',\n",
    "              'sedano',\n",
    "              'prezzemolo fresco',\n",
    "              'lamponi',\n",
    "              'salvia fresca',\n",
    "              'melanzane',\n",
    "              'grappa',\n",
    "              'zucca gialla',\n",
    "              'asparagi di serra',\n",
    "              'olive nere',\n",
    "              'timo secco macinato',\n",
    "              'fagiolini',\n",
    "              'cipolline',\n",
    "              'cavolfiore',\n",
    "              'peperoncini piccanti',\n",
    "              'rape',\n",
    "              'paprika in polvere',\n",
    "              'basilico fresco',\n",
    "              'origano secco macinato',\n",
    "              'finocchio',\n",
    "              'succo di limone, fresco',\n",
    "              'cavoli di bruxelles',\n",
    "              'funghi prataioli , coltivati',\n",
    "              'limone',\n",
    "              \"capperi sott'aceto\",\n",
    "              'broccoletti di rape',\n",
    "              'olive da tavola, conservate',\n",
    "              'radicchio rosso',\n",
    "              'prezzemolo fresco',\n",
    "              'vino bianco',\n",
    "              'piselli surgelati',\n",
    "              'noce moscata',\n",
    "              'birra scura',\n",
    "             ]"
   ]
  },
  {
   "cell_type": "markdown",
   "metadata": {},
   "source": [
    "#### Plotting values "
   ]
  },
  {
   "cell_type": "code",
   "execution_count": null,
   "metadata": {},
   "outputs": [],
   "source": [
    "meal_plan = {\n",
    "    'Energia - kcal': 2650,\n",
    "    'Proteine totali': 182,\n",
    "    'Lipidi totali': 117,\n",
    "    'Glucidi dispon.': 161,\n",
    "    'Colesterolo': 300,\n",
    "    'Na': 2300,\n",
    "    'Fibra alimentare ': 30,\n",
    "}\n",
    "\n",
    "meal_distribution = {\n",
    "    'breakfast': 0.25,\n",
    "    'lunch': 0.4,\n",
    "    'side': 0.05,\n",
    "    'universal': 0.4,\n",
    "    'snack': 0.1,\n",
    "    'dinner': 0.25,\n",
    "}"
   ]
  },
  {
   "cell_type": "code",
   "execution_count": null,
   "metadata": {},
   "outputs": [],
   "source": [
    "how_many = pd.DataFrame()\n",
    "for i in meal_distribution.keys():\n",
    "    how_many[i] = pd.Series(meal_plan) * meal_distribution[i]"
   ]
  },
  {
   "cell_type": "code",
   "execution_count": null,
   "metadata": {},
   "outputs": [],
   "source": [
    "important_values = [\n",
    "    'nome',\n",
    "    'ingredient',\n",
    "    'quantity', \n",
    "    'Energia - kcal', \n",
    "    'Proteine totali',\n",
    "    'Proteine animali', \n",
    "    'Proteine vegetali', \n",
    "    'Lipidi totali', \n",
    "    'Lipidi animali', \n",
    "    'Lipidi vegetali', \n",
    "    'Lipidi saturi', \n",
    "    'Colesterolo', \n",
    "    'Fibra alimentare ', \n",
    "    'Na']"
   ]
  },
  {
   "cell_type": "code",
   "execution_count": null,
   "metadata": {
    "scrolled": true
   },
   "outputs": [],
   "source": [
    "how_many"
   ]
  },
  {
   "cell_type": "code",
   "execution_count": null,
   "metadata": {},
   "outputs": [],
   "source": [
    "colors = {\n",
    "    'Energia - kcal': 'k',\n",
    "    'Proteine totali': 'b',\n",
    "    'Lipidi totali': 'r',\n",
    "    'Glucidi dispon.': 'g',\n",
    "    'Colesterolo': 'y',\n",
    "    'Na': 'm',\n",
    "    'Fibra alimentare ': 'brown'\n",
    "}\n",
    "import warnings\n",
    "warnings.filterwarnings(\"ignore\")"
   ]
  },
  {
   "cell_type": "code",
   "execution_count": null,
   "metadata": {
    "scrolled": false
   },
   "outputs": [],
   "source": [
    "value_selector = ['Proteine totali']\n",
    "meal_type_selector = 'breakfast'\n",
    "\n",
    "fig, ax = plt.subplots(1, 1, figsize = (18, 9))\n",
    "to_plot = rec_values[rec_values['type'] == meal_type_selector][important_values].groupby('nome').agg(sum)\n",
    "empty_weights = rec_values[[True if i in non_weight else False for i in rec_values['ingredient']]]\n",
    "empty_sum = empty_weights[empty_weights['type'] == meal_type_selector][important_values].groupby('nome').agg(sum)\n",
    "to_plot = to_plot.merge(\n",
    "    empty_sum['quantity'].rename('empty_quantity'), how = 'outer', left_index = True, right_index = True)\n",
    "to_plot['real_quantity'] = to_plot['quantity'].fillna(0) - to_plot['empty_quantity'].fillna(0)\n",
    "to_plot = to_plot.div((to_plot['real_quantity']/100).values, axis = 0)\n",
    "# now we have values for 100 grams of that specific recipt\n",
    "\n",
    "for v in value_selector:\n",
    "    # to_plot = how_many[meal_type_selector][v] / to_plot.sort_values(v)\n",
    "    to_plot = to_plot.sort_values(v)[-30:]\n",
    "    to_plot['x'] = range(len(to_plot))\n",
    "    to_plot.plot(kind = 'scatter', x = 'x', y = v, ax = ax, color = colors[v])\n",
    "ax.legend(value_selector, loc = 'upper left')\n",
    "ax.set_title(meal_type_selector + ' recipes')\n",
    "ax.set_ylabel(f'value every 100 grams')\n",
    "r = ax.set_xticks(range(len(to_plot)))\n",
    "r = ax.set_xticklabels(to_plot.index, rotation = -70, ha = 'left')\n",
    "p = plt.plot([0, len(to_plot)], [how_many[meal_type_selector][v], how_many[meal_type_selector][v]], 'k:')\n",
    "p = plt.plot([0, len(to_plot)], [to_plot[v].mean(), to_plot[v].mean()], 'b:')\n",
    "print('how many grams to reach treshold on average: ' + str(int(\n",
    "    (how_many[meal_type_selector][v] / to_plot[v].mean()) * 100)))\n",
    "print(f'how many grams to reach treshold for top 25% ({int(len(to_plot)/4)}): ' + str(int(\n",
    "    (how_many[meal_type_selector][v] / to_plot[v][-int(len(to_plot)/4):].mean()) * 100)))"
   ]
  },
  {
   "cell_type": "markdown",
   "metadata": {},
   "source": [
    "#### See the values for each recepy depending on their kind based on protain total reach"
   ]
  },
  {
   "cell_type": "code",
   "execution_count": null,
   "metadata": {},
   "outputs": [],
   "source": [
    "import random"
   ]
  },
  {
   "cell_type": "code",
   "execution_count": null,
   "metadata": {},
   "outputs": [],
   "source": [
    "main_sources = {\n",
    "    'random': {\n",
    "        'dinner': [\n",
    "            'vitello carne semigrassa',\n",
    "            'suino carne semigrassa',\n",
    "            'orata surgelata',\n",
    "            \"baccala' ammollato\",\n",
    "        ],\n",
    "        'lunch': [\n",
    "            'pasta di semola integrale',\n",
    "            'riso sbramato (integrale)',\n",
    "        ],\n",
    "        'universal':[\n",
    "            'lenticchie secche',\n",
    "            'orzo perlato',\n",
    "            'fagioli secchi',\n",
    "            'uovo di gallina, albume',\n",
    "        ],\n",
    "    },\n",
    "    'stable': {\n",
    "        'dinner': ['pollo petto'],\n",
    "        'lunch': ['pasta proteica foodspring'],\n",
    "    }\n",
    "}"
   ]
  },
  {
   "cell_type": "code",
   "execution_count": null,
   "metadata": {},
   "outputs": [],
   "source": [
    "def get_selection(meal_type_selector, value, day_type,\n",
    "                  main_sources = main_sources, \n",
    "                  rec_values = rec_values,\n",
    "                  important_values = important_values):\n",
    "    \n",
    "    main_of_week = random.choices(main_sources[day_type][meal_type_selector], k=1)\n",
    "    \n",
    "    filt = rec_values[rec_values['type'] == meal_type_selector][important_values].groupby(\n",
    "        'nome').agg(list).apply(lambda x: main_of_week[0] in x['ingredient'], axis = 1) \n",
    "    select_rec = rec_values[rec_values['type'] == meal_type_selector][important_values].groupby(\n",
    "        'nome').agg(sum)[filt]\n",
    "\n",
    "    empty_weights = rec_values[[True if i in non_weight else False for i in rec_values['ingredient']]]\n",
    "    empty_sum = empty_weights[empty_weights['type'] == meal_type_selector][important_values].groupby(\n",
    "        'nome').agg(sum)\n",
    "    \n",
    "    common = list(set(empty_sum.index) & set(select_rec.index))\n",
    "    a = select_rec['quantity'].copy()\n",
    "    select_rec.loc[common, 'quantity'] = select_rec.loc[common, 'quantity'] - empty_sum.loc[common, 'quantity']\n",
    "    print((a - select_rec['quantity']).sum())\n",
    "    \n",
    "    target = how_many[meal_type_selector][value]\n",
    "    select_rec = select_rec.div(select_rec['quantity'], axis = 0)\n",
    "    nec_quant = target / select_rec[value]\n",
    "    select_rec = select_rec.multiply(nec_quant, axis = 0)\n",
    "\n",
    "    return select_rec"
   ]
  },
  {
   "cell_type": "code",
   "execution_count": null,
   "metadata": {},
   "outputs": [],
   "source": [
    "def get_choice(select_rec, n_good_ones, rec_values = rec_values):\n",
    "    from random import randrange\n",
    "    selected = randrange(n_good_ones)\n",
    "\n",
    "    select_mer = select_rec.merge(rec_values[['nome', 'main_recipy_code']].set_index('nome').drop_duplicates(), \n",
    "                     left_index = True, right_index = True)\n",
    "\n",
    "    sel_meal = select_mer.sort_values('quantity').iloc[:n_good_ones].iloc[selected]\n",
    "    \n",
    "    return sel_meal"
   ]
  },
  {
   "cell_type": "code",
   "execution_count": null,
   "metadata": {},
   "outputs": [],
   "source": [
    "meal_type_selector = 'dinner'\n",
    "value = 'Proteine totali'\n",
    "day_type = 'stable'\n",
    "select_rec = get_selection(meal_type_selector, value, day_type)\n",
    "n_good_ones = 6\n",
    "get_choice(select_rec, n_good_ones)"
   ]
  },
  {
   "cell_type": "code",
   "execution_count": null,
   "metadata": {},
   "outputs": [],
   "source": [
    "# define \"good\". \"Good\" is one of the top 4 recipies in terms of protein. \n",
    "# rec_values[rec_values['type'] == meal_type_selector]\n",
    "\n",
    "n_good_ones = 6\n",
    "from random import randrange\n",
    "selected = randrange(n_good_ones)\n",
    "\n",
    "select_mer = select_rec.merge(rec_values[['nome', 'main_recipy_code']].set_index('nome'), \n",
    "                 left_index = True, right_index = True).drop_duplicates()\n",
    "\n",
    "# dinner_meal = select_mer.sort_values('quantity').iloc[:n_good_ones].iloc[selected]\n",
    "\n",
    "select_mer.sort_values('quantity')"
   ]
  },
  {
   "cell_type": "code",
   "execution_count": null,
   "metadata": {},
   "outputs": [],
   "source": [
    "filt = rec_values[rec_values['type'] == meal_type_selector][important_values].groupby('nome').agg(list).apply(\n",
    "    lambda x: main_of_week[0] in x['ingredient'], axis = 1) #.value_counts()\n",
    "select_rec = rec_values[rec_values['type'] == meal_type_selector][important_values].groupby(\n",
    "    'nome').agg(sum)[filt]"
   ]
  },
  {
   "cell_type": "code",
   "execution_count": null,
   "metadata": {},
   "outputs": [],
   "source": [
    "empty_weights = rec_values[[True if i in non_weight else False for i in rec_values['ingredient']]]\n",
    "empty_sum = empty_weights[empty_weights['type'] == meal_type_selector][important_values].groupby(\n",
    "    'nome').agg(sum)"
   ]
  },
  {
   "cell_type": "code",
   "execution_count": null,
   "metadata": {},
   "outputs": [],
   "source": [
    "common = list(set(empty_sum.index) & set(select_rec.index))\n",
    "a = select_rec['quantity'].copy()\n",
    "select_rec.loc[common, 'quantity'] = select_rec.loc[common, 'quantity'] - empty_sum.loc[common, 'quantity']\n",
    "print((a - select_rec['quantity']).sum())"
   ]
  },
  {
   "cell_type": "code",
   "execution_count": null,
   "metadata": {
    "scrolled": true
   },
   "outputs": [],
   "source": [
    "target = how_many[meal_type_selector][value]\n",
    "select_rec = select_rec.div(select_rec['quantity'], axis = 0)\n",
    "nec_quant = target / select_rec[value]\n",
    "select_rec = select_rec.multiply(nec_quant, axis = 0)\n",
    "\n",
    "select_rec.head(2)"
   ]
  },
  {
   "cell_type": "markdown",
   "metadata": {},
   "source": [
    "#### Selection algorythm version 1\n",
    "Choose a good lunch, dinner (or universal) and breakfast at random. \\\n",
    "Sum all values, get remaning ones. \\\n",
    "Seelct the best 4 snacks and best 4 sides that minimize the difference and choose at random. \\\n",
    "Get all list and discard and difference to optimal target."
   ]
  },
  {
   "cell_type": "code",
   "execution_count": null,
   "metadata": {
    "scrolled": false
   },
   "outputs": [],
   "source": [
    "# define \"good\". \"Good\" is one of the top 4 recipies in terms of protein. \n",
    "# rec_values[rec_values['type'] == meal_type_selector]\n",
    "threshold = 'Energia - kcal'\n",
    "n_good_ones = 6\n",
    "from random import randrange\n",
    "selected = randrange(n_good_ones)\n",
    "\n",
    "select_mer = select_rec.merge(rec_values[['nome', 'main_recipy_code']].set_index('nome').drop_duplicates(), \n",
    "                 left_index = True, right_index = True)\n",
    "\n",
    "dinner_meal = select_mer.sort_values('quantity').iloc[:n_good_ones].iloc[selected]"
   ]
  },
  {
   "cell_type": "markdown",
   "metadata": {},
   "source": [
    "#### plot"
   ]
  },
  {
   "cell_type": "code",
   "execution_count": null,
   "metadata": {},
   "outputs": [],
   "source": [
    "for i in range(len(select_rec)):\n",
    "    fig, ax = plt.subplots(1, 1, figsize = (18, 2))\n",
    "    piece = select_rec.iloc[i]\n",
    "    ax.scatter(range(len(how_many)), how_many[meal_type_selector], marker = '_')\n",
    "    ax.scatter(range(len(how_many)), piece[how_many.index].fillna(0))\n",
    "    r = ax.set_xticks(range(len(how_many.index)))\n",
    "    r = ax.set_xticklabels(how_many.index)\n",
    "    r = ax.set_title(piece.name + ' - grms. ' + str(int(piece['quantity'])))"
   ]
  },
  {
   "cell_type": "markdown",
   "metadata": {},
   "source": [
    "#### See the values for snacks and breakfast recepy depending on their kind based on protain total reach"
   ]
  },
  {
   "cell_type": "code",
   "execution_count": null,
   "metadata": {},
   "outputs": [],
   "source": [
    "meal_type_selector = 'breakfast'\n",
    "value = 'Proteine totali'"
   ]
  },
  {
   "cell_type": "code",
   "execution_count": null,
   "metadata": {},
   "outputs": [],
   "source": [
    "select_rec_s = rec_values[rec_values['type'] == meal_type_selector][important_values].groupby(\n",
    "    'nome').agg(sum)"
   ]
  },
  {
   "cell_type": "code",
   "execution_count": null,
   "metadata": {},
   "outputs": [],
   "source": [
    "target = how_many[meal_type_selector][value]\n",
    "select_rec_s = select_rec_s.div(select_rec_s['quantity'], axis = 0)\n",
    "nec_quant = target / select_rec_s[value]\n",
    "select_rec_s = select_rec_s.multiply(nec_quant, axis = 0)\n",
    "\n",
    "select_rec_s.head()"
   ]
  },
  {
   "cell_type": "code",
   "execution_count": null,
   "metadata": {},
   "outputs": [],
   "source": [
    "for i in range(len(select_rec)):\n",
    "    fig, ax = plt.subplots(1, 1, figsize = (18, 2))\n",
    "    piece = select_rec.iloc[i]\n",
    "    ax.scatter(range(len(how_many)), how_many[meal_type_selector], marker = '_')\n",
    "    ax.scatter(range(len(how_many)), piece[how_many.index].fillna(0))\n",
    "    r = ax.set_xticks(range(len(how_many.index)))\n",
    "    r = ax.set_xticklabels(how_many.index)\n",
    "    r = ax.set_title(piece.name + ' - grms. ' + str(int(piece['quantity'])))"
   ]
  },
  {
   "cell_type": "code",
   "execution_count": null,
   "metadata": {},
   "outputs": [],
   "source": [
    "select_rec.sort_values('quantity')[:25]"
   ]
  },
  {
   "cell_type": "code",
   "execution_count": null,
   "metadata": {},
   "outputs": [],
   "source": []
  },
  {
   "cell_type": "code",
   "execution_count": null,
   "metadata": {
    "scrolled": true
   },
   "outputs": [],
   "source": [
    "print(len(rec_values))\n",
    "# create substitute recipts and append them \n",
    "for ings in subs.index:\n",
    "    \n",
    "    ing = subs.loc[ings][0]\n",
    "    print(f'substituting {ing} ...' + ' ' * 30, end = '\\r', flush = True)\n",
    "    guilty_names = rec_values[rec_values['ingredient'] == ing]['nome']\n",
    "\n",
    "    for rec, idx in zip(guilty_names, range(len(guilty_names))):\n",
    "        guilty_rec = rec_values[rec_values['nome'] == rec]\n",
    "        guilty_rec.loc[guilty_rec['ingredient'] == ing, ingredients.loc[\n",
    "            subs.loc[ings][1]].index] = ingredients.loc[subs.loc[ings][1]].values.astype('float')\n",
    "        guilty_rec = guilty_rec.replace(ing, subs.loc[ings][1])\n",
    "        guilty_rec = guilty_rec.replace(\n",
    "            guilty_rec['nome'].iloc[0], guilty_rec['nome'].iloc[0] + f' variante {subs.loc[ings][1]}')\n",
    "        # guilty_rec['main_recipy_code'] += f'-v{idx}'\n",
    "        # rec_values = rec_values.drop(guilty_rec['number_code'])\n",
    "        # rec_values = rec_values.append(guilty_rec)\n",
    "#         if subs.loc[ings][2] != '':\n",
    "#             guilty_rec = rec_values[rec_values['nome'] == rec]\n",
    "#             guilty_rec.loc[guilty_rec['ingredient'] == ing, ingredients.loc[\n",
    "#                 subs.loc[ings][2]].index] = ingredients.loc[subs.loc[ings][2]].values.astype('float')\n",
    "#             guilty_rec = guilty_rec.replace(ing, subs.loc[ings][2])\n",
    "#             guilty_rec = guilty_rec.replace(guilty_rec['nome'].iloc[0], guilty_rec['nome'].iloc[0] + f' variante {subs.loc[ings][2]}')\n",
    "#             # guilty_rec['main_recipy_code'] += f'-v{idx}'\n",
    "#             rec_values = rec_values.append(guilty_rec)\n",
    "print('\\n' + str(len(rec_values)))"
   ]
  }
 ],
 "metadata": {
  "kernelspec": {
   "display_name": "Python 3",
   "language": "python",
   "name": "python3"
  },
  "language_info": {
   "codemirror_mode": {
    "name": "ipython",
    "version": 3
   },
   "file_extension": ".py",
   "mimetype": "text/x-python",
   "name": "python",
   "nbconvert_exporter": "python",
   "pygments_lexer": "ipython3",
   "version": "3.7.4"
  }
 },
 "nbformat": 4,
 "nbformat_minor": 2
}
