{
 "cells": [
  {
   "cell_type": "code",
   "execution_count": 24,
   "metadata": {},
   "outputs": [],
   "source": [
    "import pandas as pd\n",
    "import numpy as np\n",
    "import gspread\n",
    "from df2gspread import df2gspread as d2g\n",
    "import random \n",
    "import pickle\n",
    "import matplotlib.pyplot as plt\n",
    "from random import randrange\n",
    "import time"
   ]
  },
  {
   "cell_type": "markdown",
   "metadata": {},
   "source": [
    "#### Import files"
   ]
  },
  {
   "cell_type": "code",
   "execution_count": 64,
   "metadata": {},
   "outputs": [],
   "source": [
    "non_weight = ['cipolle',\n",
    "              # 'peperoni gialli',\n",
    "              'pomodoro conserva (sostanza secca 30%)',\n",
    "              'brodo vegetale',\n",
    "              'noce moscata',\n",
    "              # 'zucchine',\n",
    "              'carote',\n",
    "              # 'spinaci',\n",
    "              # 'piselli surgelati',\n",
    "              # 'pomodori da insalata',\n",
    "              # 'broccolo a testa',\n",
    "              'alloro secco',\n",
    "              'rosmarino secco',\n",
    "              # 'peperoni dolci',\n",
    "              'sedano',\n",
    "              'prezzemolo fresco',\n",
    "              'lamponi',\n",
    "              'salvia fresca',\n",
    "              # 'melanzane',\n",
    "              'grappa',\n",
    "              # 'zucca gialla',\n",
    "              # 'asparagi di serra',\n",
    "              # 'olive nere',\n",
    "              'timo secco macinato',\n",
    "              # 'fagiolini',\n",
    "              'cipolline',\n",
    "              # 'cavolfiore',\n",
    "              'peperoncini piccanti',\n",
    "              # 'rape',\n",
    "              'paprika in polvere',\n",
    "              'basilico fresco',\n",
    "              'origano secco macinato',\n",
    "              # 'finocchio',\n",
    "              'succo di limone, fresco',\n",
    "              # 'cavoli di bruxelles',\n",
    "              # 'funghi prataioli , coltivati',\n",
    "              'limone',\n",
    "              \"capperi sott'aceto\",\n",
    "              # 'broccoletti di rape',\n",
    "              'olive da tavola, conservate',\n",
    "              # 'radicchio rosso',\n",
    "              'prezzemolo fresco',\n",
    "              'vino bianco',\n",
    "              # 'piselli surgelati',\n",
    "              'noce moscata',\n",
    "              'birra scura',\n",
    "             ]"
   ]
  },
  {
   "cell_type": "code",
   "execution_count": 65,
   "metadata": {},
   "outputs": [],
   "source": [
    "main_sources = {\n",
    "    'random': {\n",
    "        'dinner': [\n",
    "            'vitello carne semigrassa',\n",
    "            'suino carne semigrassa',\n",
    "            'orata surgelata',\n",
    "            \"baccala' ammollato\",\n",
    "        ],\n",
    "        'lunch': [\n",
    "            'riso sbramato (integrale)',\n",
    "        ],\n",
    "        'universal':[\n",
    "            'lenticchie secche',\n",
    "            'orzo perlato',\n",
    "            'fagioli secchi',\n",
    "            'uovo di gallina, albume',\n",
    "        ],\n",
    "    },\n",
    "    'stable': {\n",
    "        'dinner': ['pollo petto'],\n",
    "        'lunch': ['pasta proteica foodspring'],\n",
    "    }\n",
    "}"
   ]
  },
  {
   "cell_type": "code",
   "execution_count": 66,
   "metadata": {},
   "outputs": [],
   "source": [
    "meal_plan = {\n",
    "    'Energia - kcal': 2650,\n",
    "    'Proteine totali': 182,\n",
    "    'Lipidi totali': 117,\n",
    "    'Colesterolo': 300,\n",
    "    'Na': 2300,\n",
    "    'Fibra alimentare ': 30,\n",
    "}\n",
    "\n",
    "meal_distribution = {\n",
    "    'breakfast': 0.1,\n",
    "    'lunch': 0.6,\n",
    "    'veg_side': 0.05,\n",
    "    'carb_side': 0.05,\n",
    "    'universal': 0.6,\n",
    "    'snack': 0.05,\n",
    "    'dinner': 0.3,\n",
    "}"
   ]
  },
  {
   "cell_type": "code",
   "execution_count": 67,
   "metadata": {},
   "outputs": [],
   "source": [
    "how_many = pd.DataFrame()\n",
    "for i in meal_distribution.keys():\n",
    "    how_many[i] = pd.Series(meal_plan) * meal_distribution[i]"
   ]
  },
  {
   "cell_type": "code",
   "execution_count": 68,
   "metadata": {},
   "outputs": [],
   "source": [
    "important_values = [\n",
    "    'nome',\n",
    "    'ingredient',\n",
    "    'quantity', \n",
    "    'number_code',\n",
    "    'Energia - kcal', \n",
    "    'Proteine totali',\n",
    "    'Proteine animali', \n",
    "    'Proteine vegetali', \n",
    "    'Lipidi totali', \n",
    "    'Lipidi animali', \n",
    "    'Lipidi vegetali', \n",
    "    'Lipidi saturi', \n",
    "    'Colesterolo', \n",
    "    'Fibra alimentare ', \n",
    "    'Na']"
   ]
  },
  {
   "cell_type": "code",
   "execution_count": 69,
   "metadata": {},
   "outputs": [],
   "source": [
    "rec_values = pd.read_pickle('pickle_files/rec_values.pkl')"
   ]
  },
  {
   "cell_type": "code",
   "execution_count": 70,
   "metadata": {},
   "outputs": [],
   "source": [
    "rec_values['number_code'] = rec_values['number_code'].astype('str')"
   ]
  },
  {
   "cell_type": "markdown",
   "metadata": {},
   "source": [
    "#### Select one good random breakfast, lunch and dinner"
   ]
  },
  {
   "cell_type": "code",
   "execution_count": 1010,
   "metadata": {},
   "outputs": [],
   "source": [
    "def get_selection(meal_type_selector, value, day_type,\n",
    "                  main_of_week = 'random',\n",
    "                  how_many = how_many,\n",
    "                  main_sources = main_sources, \n",
    "                  rec_values = rec_values,\n",
    "                  important_values = important_values,\n",
    "                  non_weight = non_weight):\n",
    "    \n",
    "    # does not work\n",
    "    # assert ((meal_type_selector == 'universal')) & ((day_type == 'stable')), 'no stable for universal'\n",
    "    \n",
    "    if meal_type_selector in ['dinner', 'lunch']:\n",
    "        \n",
    "        if main_of_week == 'random':\n",
    "            main_of_week = random.choices(main_sources[day_type][meal_type_selector], k=1)\n",
    "            # print(f'the main of the week is: {main_of_week}')\n",
    "\n",
    "        filt = rec_values[rec_values['type'] == meal_type_selector][important_values].groupby(\n",
    "            'nome').agg(list).apply(lambda x: main_of_week[0] in x['ingredient'], axis = 1) \n",
    "        select_rec = rec_values[rec_values['type'] == meal_type_selector][important_values].groupby(\n",
    "            'nome').agg(sum)[filt]\n",
    "        \n",
    "    else:\n",
    "        \n",
    "        select_rec = rec_values[rec_values['type'] == meal_type_selector][important_values].groupby(\n",
    "            'nome').agg(sum)\n",
    "        \n",
    "    assert len(select_rec) != 0, f'there are no recipts with {main_of_week}'\n",
    "    \n",
    "    if meal_type_selector not in ['veg_side', 'carb_side']:\n",
    "        empty_weights = rec_values[[True if i in non_weight else False for i in rec_values['ingredient']]]\n",
    "        empty_sum = empty_weights[empty_weights['type'] == meal_type_selector][important_values].groupby(\n",
    "            'nome').agg(sum)\n",
    "    \n",
    "        common = list(set(empty_sum.index) & set(select_rec.index))\n",
    "        a = select_rec['quantity'].copy()\n",
    "        select_rec.loc[common, 'quantity'] = select_rec.loc[common, 'quantity'] - empty_sum.loc[common, 'quantity']\n",
    "        if (a - select_rec['quantity']).sum() == 0:\n",
    "            print('no weight removed')\n",
    "        # print(str((a - select_rec['quantity']).sum()) + ' weight removed')\n",
    "    \n",
    "    target = how_many[meal_type_selector][value]\n",
    "    select_rec = select_rec.div(select_rec['quantity'], axis = 0)\n",
    "    nec_quant = target / select_rec[value]\n",
    "    select_rec = select_rec.multiply(nec_quant, axis = 0)\n",
    "\n",
    "    return select_rec"
   ]
  },
  {
   "cell_type": "code",
   "execution_count": 541,
   "metadata": {},
   "outputs": [],
   "source": [
    "def change_quantity(recipy, how_much):\n",
    "    recipy.loc[num_values] = recipy.loc[num_values].multiply(how_much / recipy['quantity'])\n",
    "    return recipy"
   ]
  },
  {
   "cell_type": "code",
   "execution_count": 593,
   "metadata": {},
   "outputs": [],
   "source": [
    "def get_choice(select_rec, n_good_ones, stopper, rec_values = rec_values):\n",
    "    \n",
    "    # attach recipt id and sort by quantity\n",
    "    select_mer = select_rec.merge(rec_values[['nome', 'main_recipy_code']].set_index('nome'), \n",
    "         left_index = True, right_index = True).drop_duplicates().sort_values('quantity')\n",
    "    \n",
    "    assert len(select_mer) > 0, 'select_mer as len == 0'\n",
    "    \n",
    "    # regulate stopper so it does not go on forever\n",
    "    max_types = len(select_mer['main_recipy_code'].value_counts())\n",
    "    if max_types < stopper:\n",
    "        stopper = max_types\n",
    "\n",
    "    # select minimum of recipts to choose from among the best \n",
    "    while len(np.unique(select_mer.iloc[:n_good_ones]['main_recipy_code'])) < stopper:\n",
    "        n_good_ones += 1\n",
    "        if n_good_ones > len(select_mer):\n",
    "            break\n",
    "    \n",
    "    # get candidates\n",
    "    candidates = select_mer.iloc[:n_good_ones]\n",
    "\n",
    "    # while n_good_ones > len(candidates):\n",
    "    #      n_good_ones -= 1\n",
    "        \n",
    "    # select a random one, pure randomly, could be more sophysticated \n",
    "    #     from random import randrange\n",
    "    #     selected = randrange(len(candidates))\n",
    "    \n",
    "    assert len(candidates) > 0, 'there are no candidates'\n",
    "    # print(selected)\n",
    "    # print(candidates)\n",
    "    # print(len(candidates))\n",
    "    return candidates #.iloc[selected]"
   ]
  },
  {
   "cell_type": "code",
   "execution_count": 798,
   "metadata": {},
   "outputs": [],
   "source": [
    "select_rec = get_selection('dinner', 'Proteine totali', 'stable')\n",
    "select_mer = select_rec.merge(rec_values[['nome', 'main_recipy_code']].set_index('nome'), \n",
    "         left_index = True, right_index = True).drop_duplicates().sort_values('quantity')\n",
    "max_types = len(select_mer['main_recipy_code'].value_counts())\n",
    "if max_types < stopper:\n",
    "    stopper = max_types\n",
    "while len(np.unique(select_mer.iloc[:n_good_ones]['main_recipy_code'])) < stopper:\n",
    "    n_good_ones += 1\n",
    "    if n_good_ones > len(select_mer):\n",
    "        break\n",
    "candidates = select_mer.iloc[:n_good_ones]\n",
    "candidates = candidates.apply(lambda x: reg_quantity(x, 'dinner'), axis = 1)"
   ]
  },
  {
   "cell_type": "code",
   "execution_count": 594,
   "metadata": {},
   "outputs": [],
   "source": [
    "num_values = [\n",
    "    'quantity', \n",
    "    'Energia - kcal', \n",
    "    'Proteine totali',\n",
    "    'Proteine animali', \n",
    "    'Proteine vegetali', \n",
    "    'Lipidi totali', \n",
    "    'Lipidi animali', \n",
    "    'Lipidi vegetali', \n",
    "    'Lipidi saturi', \n",
    "    'Colesterolo', \n",
    "    'Fibra alimentare ', \n",
    "    'Na']"
   ]
  },
  {
   "cell_type": "code",
   "execution_count": 595,
   "metadata": {},
   "outputs": [],
   "source": [
    "veg_sides = rec_values[rec_values['type'] == 'veg_side'].groupby('nome').agg(sum)[num_values].apply(\n",
    "    lambda x: change_quantity(x, 100), axis = 1).sort_values('Energia - kcal', ascending = False)[:15]"
   ]
  },
  {
   "cell_type": "code",
   "execution_count": 596,
   "metadata": {},
   "outputs": [],
   "source": [
    "# random * 2, universal * 2, stable * 4, "
   ]
  },
  {
   "cell_type": "code",
   "execution_count": 816,
   "metadata": {},
   "outputs": [],
   "source": [
    "def reg_quantity(chosen_meal, meal_type_selector, boundiary_quantities = boundiary_quantities):\n",
    "\n",
    "    if chosen_meal['quantity'] > boundiary_quantities[meal_type_selector][1]:\n",
    "        chosen_meal = change_quantity(chosen_meal, boundiary_quantities[meal_type_selector][1])\n",
    "    if chosen_meal['quantity'] < boundiary_quantities[meal_type_selector][0]:\n",
    "        chosen_meal = change_quantity(chosen_meal, boundiary_quantities[meal_type_selector][0])\n",
    "        \n",
    "    return chosen_meal"
   ]
  },
  {
   "cell_type": "code",
   "execution_count": 817,
   "metadata": {},
   "outputs": [],
   "source": [
    "def_values = ['quantity', 'Energia - kcal', 'Proteine totali', 'Lipidi totali', 'Colesterolo', 'Fibra alimentare ', 'type']"
   ]
  },
  {
   "cell_type": "code",
   "execution_count": 835,
   "metadata": {},
   "outputs": [],
   "source": [
    "def get_average(meal_type, day_type, boundiary_quantities = boundiary_quantities):\n",
    "    select_rec = get_selection(meal_type, 'Proteine totali', day_type)\n",
    "    \n",
    "    # minimum number to start with\n",
    "    n_good_ones = 6\n",
    "    # stopper is the min num of different recipies that we will end up with to choose from\n",
    "    stopper = 4\n",
    "\n",
    "    # get meals\n",
    "    chosen_meals = get_choice(select_rec, n_good_ones, stopper)\n",
    "    \n",
    "    # regulate quantity\n",
    "    chosen_meals = chosen_meals.apply(lambda x: reg_quantity(x, meal_type, boundiary_quantities), axis = 1)\n",
    "    \n",
    "    return chosen_meals.quantile(0.25)"
   ]
  },
  {
   "cell_type": "code",
   "execution_count": 836,
   "metadata": {},
   "outputs": [],
   "source": [
    "frutta_index = [i for i in rec_values['nome'].value_counts().index if (i[:6] == 'frutta') & (len(i) < 10)]\n",
    "average_fruit = get_selection('snack', 'Proteine totali', 'random').loc[frutta_index].dropna(0).apply(\n",
    "    lambda x: change_quantity(x, 200), axis = 1).mean()"
   ]
  },
  {
   "cell_type": "code",
   "execution_count": 837,
   "metadata": {},
   "outputs": [],
   "source": [
    "select_rec = get_selection('veg_side', 'Proteine totali', day_type)\n",
    "# minimum number to start with\n",
    "n_good_ones = 6\n",
    "# stopper is the min num of different recipies that we will end up with to choose from\n",
    "stopper = 4\n",
    "chosen_meals = get_choice(select_rec, n_good_ones, stopper)\n",
    "average_veg_side = chosen_meals.apply(lambda x: change_quantity(x, 200), axis = 1).mean()"
   ]
  },
  {
   "cell_type": "code",
   "execution_count": 849,
   "metadata": {},
   "outputs": [],
   "source": [
    "select_rec = get_selection('carb_side', 'Proteine totali', day_type)\n",
    "# minimum number to start with\n",
    "n_good_ones = 6\n",
    "# stopper is the min num of different recipies that we will end up with to choose from\n",
    "stopper = 4\n",
    "chosen_meals = get_choice(select_rec, n_good_ones, stopper)\n",
    "average_carb_side = chosen_meals.apply(lambda x: change_quantity(x, 200), axis = 1).mean()"
   ]
  },
  {
   "cell_type": "code",
   "execution_count": 850,
   "metadata": {
    "scrolled": false
   },
   "outputs": [],
   "source": [
    "shake = rec_values[rec_values['nome'] == 'shake proteico'][num_values].sum()\n",
    "shake = change_quantity(shake, 150)"
   ]
  },
  {
   "cell_type": "code",
   "execution_count": 851,
   "metadata": {},
   "outputs": [],
   "source": [
    "boundiary_quantities = {\n",
    "    'breakfast': [150, 200],\n",
    "    'lunch': [200, 250],\n",
    "    'dinner': [150, 200],\n",
    "    'universal': [200, 250],\n",
    "    'snack': [80, 100],\n",
    "}"
   ]
  },
  {
   "cell_type": "code",
   "execution_count": 862,
   "metadata": {},
   "outputs": [
    {
     "data": {
      "text/plain": [
       "Energia - kcal     14.752928\n",
       "Proteine totali   -25.986583\n",
       "dtype: float64"
      ]
     },
     "execution_count": 862,
     "metadata": {},
     "output_type": "execute_result"
    }
   ],
   "source": [
    "total_week = sum(\n",
    "    [\n",
    "        # dinner \n",
    "        get_average('dinner', 'stable', boundiary_quantities).loc[['Energia - kcal', 'Proteine totali']] * 3,\n",
    "        get_average('dinner', 'random', boundiary_quantities).loc[['Energia - kcal', 'Proteine totali']] * 2,\n",
    "        \n",
    "        # lunch\n",
    "        get_average('lunch', 'stable', boundiary_quantities).loc[['Energia - kcal', 'Proteine totali']] * 3,\n",
    "        get_average('lunch', 'random', boundiary_quantities).loc[['Energia - kcal', 'Proteine totali']] * 0,\n",
    "        \n",
    "        # universal\n",
    "        get_average('universal', 'stable', boundiary_quantities).loc[['Energia - kcal', 'Proteine totali']] * 2,\n",
    "        \n",
    "        # breakfast\n",
    "        get_average('breakfast', 'stable', boundiary_quantities).loc[['Energia - kcal', 'Proteine totali']] * 5,\n",
    "        \n",
    "        # snack\n",
    "        get_average('snack', 'random', boundiary_quantities).loc[['Energia - kcal', 'Proteine totali']] * 5,\n",
    "        \n",
    "        # side veg\n",
    "        average_veg_side.loc[['Energia - kcal', 'Proteine totali']] * 5,\n",
    "        \n",
    "        # carb side\n",
    "        average_carb_side.loc[['Energia - kcal', 'Proteine totali']] * 5,\n",
    "        \n",
    "        # fruit\n",
    "        average_fruit.loc[['Energia - kcal', 'Proteine totali']] * 5,\n",
    "        \n",
    "        # shake\n",
    "        shake.loc[['Energia - kcal', 'Proteine totali']] * 5, \n",
    "    ]\n",
    ")\n",
    "week_goal = pd.Series(meal_plan)*5\n",
    "(total_week - week_goal).dropna()"
   ]
  },
  {
   "cell_type": "markdown",
   "metadata": {},
   "source": [
    "#### Upload select_rec"
   ]
  },
  {
   "cell_type": "code",
   "execution_count": 247,
   "metadata": {},
   "outputs": [],
   "source": [
    "from oauth2client.service_account import ServiceAccountCredentials\n",
    "\n",
    "scopes = ['https://spreadsheets.google.com/feeds',\n",
    "         'https://www.googleapis.com/auth/drive']\n",
    "\n",
    "credentials = ServiceAccountCredentials.from_json_keyfile_name(\n",
    "    'credentials.json', scopes = scopes)\n",
    "\n",
    "gc = gspread.authorize(credentials)"
   ]
  },
  {
   "cell_type": "code",
   "execution_count": 248,
   "metadata": {},
   "outputs": [],
   "source": [
    "gc = gspread.service_account(filename='credentials.json')\n",
    "sh = gc.open(\"recipy_review\")\n",
    "sheet_code = '1qjjXi7KLTe_MOV4b_AOI35mmuADD5z7nUV2osbNYLI4'"
   ]
  },
  {
   "cell_type": "code",
   "execution_count": 1000,
   "metadata": {},
   "outputs": [],
   "source": [
    "all_random_dinners = [\n",
    "    'vitello carne semigrassa',\n",
    "    'suino carne semigrassa',\n",
    "    'orata surgelata',\n",
    "    \"baccala' ammollato\",\n",
    "]"
   ]
  },
  {
   "cell_type": "code",
   "execution_count": 999,
   "metadata": {},
   "outputs": [],
   "source": [
    "combs = [\n",
    "    ['dinner', 'stable'],\n",
    "    # ['dinner', 'random'],\n",
    "    ['lunch', 'stable'],\n",
    "    ['lunch', 'random'],\n",
    "    ['universal', 'stable'],\n",
    "    ['breakfast', 'stable'],\n",
    "    ['snack', 'random'],\n",
    "    ]"
   ]
  },
  {
   "cell_type": "code",
   "execution_count": 1012,
   "metadata": {
    "scrolled": true
   },
   "outputs": [
    {
     "name": "stdout",
     "output_type": "stream",
     "text": [
      "I am waiting 0 seconds ....           \r"
     ]
    }
   ],
   "source": [
    "sheet_name = 'chosen recipies'\n",
    "space = 0\n",
    "for idx, i in enumerate(combs):\n",
    "    select_rec = get_selection(i[0], 'Proteine totali', i[1])\n",
    "    \n",
    "    # minimum number to start with\n",
    "    n_good_ones = 6\n",
    "    # stopper is the min num of different recipies that we will end up with to choose from\n",
    "    stopper = 4\n",
    "\n",
    "    # get meals\n",
    "    chosen_meals = get_choice(select_rec, n_good_ones, stopper)\n",
    "    # regulate quantity\n",
    "    chosen_meals = chosen_meals.apply(lambda x: reg_quantity(x, i[0]), axis = 1)\n",
    "    chosen_meals['type'] = (str(i[0]) + ' ' + str(i[1]))\n",
    "    chosen_meals['prot_ points'] = chosen_meals['Proteine totali'] > chosen_meals['Proteine totali'].quantile(\n",
    "        0.25)\n",
    "    chosen_meals['eneg_ points'] = chosen_meals['Energia - kcal'] > chosen_meals['Energia - kcal'].quantile(\n",
    "        0.25)\n",
    "    to_upl = chosen_meals \n",
    "    \n",
    "    print(f'Updating {i[0]} .... ' + ' '*10, end = '\\r', flush = True)\n",
    "    \n",
    "    if idx == 0:\n",
    "        d2g.upload(to_upl.round(1), sheet_code, sheet_name, credentials=credentials, row_names=True, \n",
    "               start_cell = f'A{1 + space}', clean = True)\n",
    "    else:\n",
    "        d2g.upload(to_upl.round(1), sheet_code, sheet_name, credentials=credentials, row_names=True, \n",
    "               start_cell = f'A{1 + space}', clean = False)\n",
    "    \n",
    "    worksheet = sh.worksheet(sheet_name)\n",
    "    worksheet.update(f'A{1 + space}', i[0] + ' '+ i[1])\n",
    "    worksheet.format(f\"A{1 + space}:A{1 + space}\", {\n",
    "        \"backgroundColor\": {\n",
    "          \"red\": 2.99,\n",
    "          \"green\": 0.5,\n",
    "          \"blue\": 0.5\n",
    "        },\n",
    "        \"textFormat\": {\n",
    "          \"fontSize\": 11,\n",
    "          \"bold\": True\n",
    "        }\n",
    "    })\n",
    "    \n",
    "    space += to_upl.shape[0] + 3\n",
    "    \n",
    "    n = 5\n",
    "    for i in range(n):\n",
    "        print(f'I am waiting {n-(i+1)} seconds .... '+ ' '*10, end = '\\r', flush = True)\n",
    "        time.sleep(1)\n",
    "    \n",
    "    "
   ]
  },
  {
   "cell_type": "code",
   "execution_count": 1013,
   "metadata": {},
   "outputs": [
    {
     "name": "stdout",
     "output_type": "stream",
     "text": [
      "I am waiting 0 seconds ....                      \r"
     ]
    }
   ],
   "source": [
    "for dinner in all_random_dinners:\n",
    "    select_rec = get_selection('dinner', 'Proteine totali', 'random', [dinner])\n",
    "    # minimum number to start with\n",
    "    n_good_ones = 6\n",
    "    # stopper is the min num of different recipies that we will end up with to choose from\n",
    "    stopper = 4\n",
    "\n",
    "    # get meals\n",
    "    chosen_meals = get_choice(select_rec, n_good_ones, stopper)\n",
    "    # regulate quantity\n",
    "    chosen_meals = chosen_meals.apply(lambda x: reg_quantity(x, 'dinner'), axis = 1)\n",
    "    chosen_meals['type'] = (str('dinner') + ' ' + str('random'))\n",
    "    chosen_meals['prot_ points'] = chosen_meals['Proteine totali'] > chosen_meals['Proteine totali'].quantile(\n",
    "        0.25)\n",
    "    chosen_meals['eneg_ points'] = chosen_meals['Energia - kcal'] > chosen_meals['Energia - kcal'].quantile(\n",
    "        0.25)\n",
    "    to_upl = chosen_meals \n",
    "    \n",
    "    print(f'Updating {dinner} .... ' + ' '*10, end = '\\r', flush = True)\n",
    "    \n",
    "    if idx == 0:\n",
    "        d2g.upload(to_upl.round(1), sheet_code, sheet_name, credentials=credentials, row_names=True, \n",
    "               start_cell = f'A{1 + space}', clean = True)\n",
    "    else:\n",
    "        d2g.upload(to_upl.round(1), sheet_code, sheet_name, credentials=credentials, row_names=True, \n",
    "               start_cell = f'A{1 + space}', clean = False)\n",
    "    \n",
    "    worksheet = sh.worksheet(sheet_name)\n",
    "    worksheet.update(f'A{1 + space}', dinner)\n",
    "    worksheet.format(f\"A{1 + space}:A{1 + space}\", {\n",
    "        \"backgroundColor\": {\n",
    "          \"red\": 2.99,\n",
    "          \"green\": 0.5,\n",
    "          \"blue\": 0.5\n",
    "        },\n",
    "        \"textFormat\": {\n",
    "          \"fontSize\": 11,\n",
    "          \"bold\": True\n",
    "        }\n",
    "    })\n",
    "    \n",
    "    space += to_upl.shape[0] + 3\n",
    "    \n",
    "    n = 5\n",
    "    for i in range(n):\n",
    "        print(f'I am waiting {n-(i+1)} seconds .... '+ ' '*10, end = '\\r', flush = True)\n",
    "        time.sleep(1)"
   ]
  },
  {
   "cell_type": "code",
   "execution_count": 1014,
   "metadata": {},
   "outputs": [],
   "source": [
    "frutta_index = [i for i in rec_values['nome'].value_counts().index if (i[:6] == 'frutta') & (len(i) < 10)]\n",
    "fruits = get_selection('snack', 'Proteine totali', 'random').loc[frutta_index].dropna(0).apply(\n",
    "    lambda x: change_quantity(x, 200), axis = 1) \n",
    "\n",
    "select_rec = get_selection('veg_side', 'Proteine totali', day_type)\n",
    "# minimum number to start with\n",
    "n_good_ones = 6\n",
    "# stopper is the min num of different recipies that we will end up with to choose from\n",
    "stopper = 4\n",
    "chosen_meals = get_choice(select_rec, n_good_ones, stopper)\n",
    "veg_sides = chosen_meals.apply(lambda x: change_quantity(x, 200), axis = 1)\n",
    "\n",
    "select_rec = get_selection('carb_side', 'Proteine totali', day_type)\n",
    "# minimum number to start with\n",
    "n_good_ones = 6\n",
    "# stopper is the min num of different recipies that we will end up with to choose from\n",
    "stopper = 4\n",
    "chosen_meals = get_choice(select_rec, n_good_ones, stopper)\n",
    "carb_sides = chosen_meals.apply(lambda x: change_quantity(x, 200), axis = 1)"
   ]
  },
  {
   "cell_type": "code",
   "execution_count": 1015,
   "metadata": {},
   "outputs": [
    {
     "name": "stdout",
     "output_type": "stream",
     "text": [
      "I am waiting 0 seconds ....           \r"
     ]
    }
   ],
   "source": [
    "for i in zip(['fruits', 'veggies', 'extra carbs'], [fruits, veg_sides, carb_sides]):\n",
    "    print(f'Updating {i[0]} .... ' + ' '*10, end = '\\r', flush = True)\n",
    "    \n",
    "    d2g.upload(i[1].round(1), sheet_code, sheet_name, credentials=credentials, row_names=True, \n",
    "           start_cell = f'A{1 + space}', clean = False)\n",
    "    \n",
    "    worksheet = sh.worksheet(sheet_name)\n",
    "    worksheet.update(f'A{1 + space}', i[0])\n",
    "    worksheet.format(f\"A{1 + space}:A{1 + space}\", {\n",
    "        \"backgroundColor\": {\n",
    "          \"red\": 2.99,\n",
    "          \"green\": 0.5,\n",
    "          \"blue\": 0.5\n",
    "        },\n",
    "        \"textFormat\": {\n",
    "          \"fontSize\": 11,\n",
    "          \"bold\": True\n",
    "        }\n",
    "    })\n",
    "    \n",
    "    space += i[1].shape[0] + 3\n",
    "    \n",
    "    n = 5\n",
    "    for i in range(n):\n",
    "        print(f'I am waiting {n-(i+1)} seconds .... '+ ' '*10, end = '\\r', flush = True)\n",
    "        time.sleep(1)"
   ]
  },
  {
   "cell_type": "markdown",
   "metadata": {},
   "source": [
    "#### print ingredient list "
   ]
  },
  {
   "cell_type": "code",
   "execution_count": 921,
   "metadata": {},
   "outputs": [],
   "source": [
    "from oauth2client.service_account import ServiceAccountCredentials\n",
    "\n",
    "scopes = ['https://spreadsheets.google.com/feeds',\n",
    "         'https://www.googleapis.com/auth/drive']\n",
    "\n",
    "credentials = ServiceAccountCredentials.from_json_keyfile_name(\n",
    "    'credentials.json', scopes = scopes)\n",
    "\n",
    "gc = gspread.authorize(credentials)"
   ]
  },
  {
   "cell_type": "code",
   "execution_count": 922,
   "metadata": {},
   "outputs": [],
   "source": [
    "gc = gspread.service_account(filename='credentials.json')\n",
    "sh = gc.open(\"recipy_review\")\n",
    "sheet_code = '1qjjXi7KLTe_MOV4b_AOI35mmuADD5z7nUV2osbNYLI4'"
   ]
  },
  {
   "cell_type": "code",
   "execution_count": 936,
   "metadata": {},
   "outputs": [],
   "source": [
    "sheet = pd.DataFrame(sh.sheet1.get_all_values())\n",
    "sheet.columns = sheet.iloc[0]\n",
    "sheet = sheet.iloc[1:]\n",
    "sheet['portion'] = sheet['portion'].astype('float')\n",
    "sheet['times'] = sheet['times'].astype('int')"
   ]
  },
  {
   "cell_type": "code",
   "execution_count": 995,
   "metadata": {},
   "outputs": [],
   "source": [
    "shopping_group = pd.DataFrame({})\n",
    "for idx, rec in sheet.iterrows():\n",
    "    ings = rec_values[rec_values['nome'] == rec['recipy']]\n",
    "    pure_ings = ings[[True if i not in non_weight else False for i in ings['ingredient']]][important_values]\n",
    "    pure_ings[num_values] = pure_ings[num_values].multiply(rec['portion'] / pure_ings['quantity'].sum()) * rec['times']\n",
    "    shopping_group = shopping_group.append(pure_ings)"
   ]
  },
  {
   "cell_type": "code",
   "execution_count": 998,
   "metadata": {
    "scrolled": false
   },
   "outputs": [
    {
     "data": {
      "text/plain": [
       "<Worksheet 'shopping list' id:91385844>"
      ]
     },
     "execution_count": 998,
     "metadata": {},
     "output_type": "execute_result"
    }
   ],
   "source": [
    "shopping_list = shopping_group[['nome', 'ingredient', 'quantity']].groupby('ingredient').agg(sum)\n",
    "\n",
    "gc = gspread.service_account(filename='credentials.json')\n",
    "sh = gc.open(\"recipy_review\")\n",
    "sheet_code = '1qjjXi7KLTe_MOV4b_AOI35mmuADD5z7nUV2osbNYLI4'\n",
    "\n",
    "d2g.upload(shopping_list.round(1), sheet_code, 'shopping list', credentials=credentials, row_names=True, clean = True)"
   ]
  },
  {
   "cell_type": "code",
   "execution_count": null,
   "metadata": {},
   "outputs": [],
   "source": []
  },
  {
   "cell_type": "code",
   "execution_count": 923,
   "metadata": {},
   "outputs": [],
   "source": [
    "for i in to_find_ing:\n",
    "    rec_values[rec_values['nome'] == i]"
   ]
  },
  {
   "cell_type": "code",
   "execution_count": 881,
   "metadata": {},
   "outputs": [],
   "source": [
    "time.sleep(5)"
   ]
  },
  {
   "cell_type": "code",
   "execution_count": 143,
   "metadata": {},
   "outputs": [],
   "source": [
    "# day meals\n",
    "day_meals = pd.DataFrame({})\n",
    "# type of meal \n",
    "for meal_type_selector, day_type in zip(['dinner', 'lunch', 'breakfast'], ['random', 'random', 'stable']):\n",
    "    # choose type of nutrient value to cap\n",
    "    value = 'Proteine totali'\n",
    "    # choose type of ingredient \n",
    "    # day_type = 'random' # stable or random\n",
    "    # select recipts for that particular meal with that specific ingredient with the protein quantity right\n",
    "    select_rec = get_selection(meal_type_selector, value, day_type)\n",
    "\n",
    "    # minimum number to start with\n",
    "    n_good_ones = 6\n",
    "    # stopper is the min num of different recipies that we will end up with to choose from\n",
    "    stopper = 4\n",
    "\n",
    "    # get meals\n",
    "    chosen_meals = get_choice(select_rec, n_good_ones, stopper)\n",
    "    \n",
    "    # regulate quantities\n",
    "    chosen_meals = chosen_meals.apply(lambda x: reg_quantity(x), axis = 1)\n",
    "    chosen_meals['type'] = meal_type_selector\n",
    "    \n",
    "    # select three meals in an intelligent way\n",
    "    day_meals = day_meals.append(chosen_meals)"
   ]
  },
  {
   "cell_type": "code",
   "execution_count": 198,
   "metadata": {},
   "outputs": [
    {
     "name": "stdout",
     "output_type": "stream",
     "text": [
      "reduction\n",
      "reduction\n",
      "reduction\n",
      "reduction\n",
      "reduction\n",
      "reduction\n",
      "no combination found\n"
     ]
    }
   ],
   "source": [
    "a = day_meals[day_meals['type'] == 'dinner']\n",
    "b = day_meals[day_meals['type'] == 'lunch']\n",
    "c = day_meals[day_meals['type'] == 'breakfast']\n",
    "total_cal = 0 \n",
    "counter = 0\n",
    "t = how_many.loc['Energia - kcal'][['breakfast', 'lunch', 'dinner']].sum()\n",
    "t2 = 0\n",
    "result = pd.DataFrame({})\n",
    "while True:\n",
    "    counter += 1\n",
    "    for i in [a, b, c]:\n",
    "        selected = randrange(len(i))\n",
    "        total_cal += i.iloc[selected]['Energia - kcal']\n",
    "        result = result.append(i.iloc[selected])\n",
    "    if total_cal > (t - t2):\n",
    "        break\n",
    "    else:\n",
    "        total_cal = 0\n",
    "        result = pd.DataFrame({})\n",
    "    if counter > 50:\n",
    "        if t2 > 500:\n",
    "            print('no combination found')\n",
    "            break\n",
    "        else:\n",
    "            print('reduction')\n",
    "            counter = 0\n",
    "            t2 += 100"
   ]
  },
  {
   "cell_type": "code",
   "execution_count": 199,
   "metadata": {},
   "outputs": [
    {
     "data": {
      "text/plain": [
       "2650.0"
      ]
     },
     "execution_count": 199,
     "metadata": {},
     "output_type": "execute_result"
    }
   ],
   "source": [
    "t"
   ]
  },
  {
   "cell_type": "code",
   "execution_count": 200,
   "metadata": {},
   "outputs": [
    {
     "data": {
      "text/plain": [
       "600"
      ]
     },
     "execution_count": 200,
     "metadata": {},
     "output_type": "execute_result"
    }
   ],
   "source": [
    "t2"
   ]
  },
  {
   "cell_type": "code",
   "execution_count": 201,
   "metadata": {},
   "outputs": [
    {
     "data": {
      "text/plain": [
       "Series([], dtype: float64)"
      ]
     },
     "execution_count": 201,
     "metadata": {},
     "output_type": "execute_result"
    }
   ],
   "source": [
    "result.sum()"
   ]
  },
  {
   "cell_type": "code",
   "execution_count": 111,
   "metadata": {
    "collapsed": true
   },
   "outputs": [
    {
     "data": {
      "text/plain": [
       "quantity              900.000000\n",
       "Energia - kcal       2135.132662\n",
       "Proteine totali        55.399817\n",
       "Proteine animali       23.385178\n",
       "Proteine vegetali      32.014639\n",
       "Lipidi totali         117.881061\n",
       "Lipidi animali         16.468435\n",
       "Lipidi vegetali       101.412626\n",
       "Lipidi saturi          30.833852\n",
       "Colesterolo            55.992681\n",
       "Fibra alimentare       29.741995\n",
       "Na                   2326.166514\n",
       "dtype: float64"
      ]
     },
     "execution_count": 111,
     "metadata": {},
     "output_type": "execute_result"
    }
   ],
   "source": [
    "a = rec_values[rec_values['nome'] == 'risotto e piselli variante margarina vegetale'][num_values].sum()\n",
    "change_quantity(a, 900)"
   ]
  },
  {
   "cell_type": "code",
   "execution_count": 115,
   "metadata": {
    "scrolled": false
   },
   "outputs": [
    {
     "name": "stdout",
     "output_type": "stream",
     "text": [
      "quantity              521.500\n",
      "Energia - kcal       1078.400\n",
      "Proteine totali        26.040\n",
      "Proteine animali       10.650\n",
      "Proteine vegetali      15.390\n",
      "Lipidi totali          53.630\n",
      "Lipidi animali          7.500\n",
      "Lipidi vegetali        46.130\n",
      "Lipidi saturi          14.454\n",
      "Colesterolo            25.500\n",
      "Fibra alimentare        9.510\n",
      "Na                   1366.400\n",
      "Name: risotto con asparagi variante margarina vegetale, dtype: float64\n",
      "quantity              381.500\n",
      "Energia - kcal       1078.400\n",
      "Proteine totali        26.040\n",
      "Proteine animali       10.650\n",
      "Proteine vegetali      15.390\n",
      "Lipidi totali          53.630\n",
      "Lipidi animali          7.500\n",
      "Lipidi vegetali        46.130\n",
      "Lipidi saturi          14.454\n",
      "Colesterolo            25.500\n",
      "Fibra alimentare        9.510\n",
      "Na                   1366.400\n",
      "Name: risotto con asparagi variante margarina vegetale, dtype: float64\n",
      "quantity             1599.838710\n",
      "Energia - kcal       4522.322581\n",
      "Proteine totali       109.200000\n",
      "Proteine animali       44.661290\n",
      "Proteine vegetali      64.538710\n",
      "Lipidi totali         224.900000\n",
      "Lipidi animali         31.451613\n",
      "Lipidi vegetali       193.448387\n",
      "Lipidi saturi          60.613548\n",
      "Colesterolo           106.935484\n",
      "Fibra alimentare       39.880645\n",
      "Na                   5730.064516\n",
      "Name: risotto con asparagi variante margarina vegetale, dtype: float64\n"
     ]
    },
    {
     "data": {
      "text/plain": [
       "quantity             250.000000\n",
       "Energia - kcal       706.684142\n",
       "Proteine totali       17.064220\n",
       "Proteine animali       6.979030\n",
       "Proteine vegetali     10.085190\n",
       "Lipidi totali         35.144168\n",
       "Lipidi animali         4.914810\n",
       "Lipidi vegetali       30.229358\n",
       "Lipidi saturi          9.471822\n",
       "Colesterolo           16.710354\n",
       "Fibra alimentare       6.231979\n",
       "Na                   895.412844\n",
       "Name: risotto con asparagi variante margarina vegetale, dtype: float64"
      ]
     },
     "execution_count": 115,
     "metadata": {},
     "output_type": "execute_result"
    }
   ],
   "source": [
    "day_type = 'random'\n",
    "meal_type_selector = 'lunch'\n",
    "    \n",
    "main_of_week = random.choices(main_sources[day_type][meal_type_selector], k=1)\n",
    "# print(f'the main of the week is: {main_of_week}')\n",
    "\n",
    "filt = rec_values[rec_values['type'] == meal_type_selector][important_values].groupby(\n",
    "    'nome').agg(list).apply(lambda x: main_of_week[0] in x['ingredient'], axis = 1) \n",
    "select_rec = rec_values[rec_values['type'] == meal_type_selector][important_values].groupby(\n",
    "    'nome').agg(sum)[filt]\n",
    "\n",
    "empty_weights = rec_values[[True if i in non_weight else False for i in rec_values['ingredient']]]\n",
    "empty_sum = empty_weights[empty_weights['type'] == meal_type_selector][important_values].groupby(\n",
    "    'nome').agg(sum)\n",
    "\n",
    "print(select_rec.loc['risotto con asparagi variante margarina vegetale'])\n",
    "\n",
    "common = list(set(empty_sum.index) & set(select_rec.index))\n",
    "a = select_rec['quantity'].copy()\n",
    "select_rec.loc[common, 'quantity'] = select_rec.loc[common, 'quantity'] - empty_sum.loc[common, 'quantity']\n",
    "if (a - select_rec['quantity']).sum() == 0:\n",
    "    print('no weight removed')\n",
    "\n",
    "print(select_rec.loc['risotto con asparagi variante margarina vegetale'])\n",
    "\n",
    "target = how_many[meal_type_selector][value]\n",
    "select_rec = select_rec.div(select_rec['quantity'], axis = 0)\n",
    "nec_quant = target / select_rec[value]\n",
    "select_rec = select_rec.multiply(nec_quant, axis = 0)\n",
    "\n",
    "print(select_rec.loc['risotto con asparagi variante margarina vegetale'])\n",
    "\n",
    "change_quantity(select_rec.loc['risotto con asparagi variante margarina vegetale'], 250)"
   ]
  },
  {
   "cell_type": "code",
   "execution_count": 131,
   "metadata": {},
   "outputs": [
    {
     "data": {
      "text/plain": [
       "quantity             250.000000\n",
       "Energia - kcal       797.355474\n",
       "Proteine totali       20.688807\n",
       "Proteine animali       8.733087\n",
       "Proteine vegetali     11.955720\n",
       "Lipidi totali         44.022140\n",
       "Lipidi animali         6.150062\n",
       "Lipidi vegetali       37.872079\n",
       "Lipidi saturi         11.514760\n",
       "Colesterolo           20.910209\n",
       "Fibra alimentare      11.107011\n",
       "Na                   868.696187\n",
       "Name: risotto e piselli variante margarina vegetale, dtype: float64"
      ]
     },
     "execution_count": 131,
     "metadata": {},
     "output_type": "execute_result"
    }
   ],
   "source": [
    "b = get_selection('lunch', 'Proteine totali', 'random').apply(lambda x: change_quantity(x, 250), axis = 1)\n",
    "b.loc['risotto con asparagi variante margarina vegetale']\n",
    "\n",
    "c = get_choice(get_selection('lunch', 'Proteine totali', 'random'), 6, 4).apply(lambda x: change_quantity(x, 250), axis = 1)\n",
    "c.loc['risotto e piselli variante margarina vegetale']"
   ]
  },
  {
   "cell_type": "code",
   "execution_count": 116,
   "metadata": {
    "scrolled": true
   },
   "outputs": [
    {
     "data": {
      "text/plain": [
       "Colesterolo          20.9102\n",
       "Energia - kcal       797.355\n",
       "Fibra alimentare      11.107\n",
       "Lipidi animali       6.15006\n",
       "Lipidi saturi        11.5148\n",
       "Lipidi totali        44.0221\n",
       "Lipidi vegetali      37.8721\n",
       "Na                   868.696\n",
       "Proteine animali     8.73309\n",
       "Proteine totali      20.6888\n",
       "Proteine vegetali    11.9557\n",
       "main_recipy_code         NaN\n",
       "quantity                 250\n",
       "type                     NaN\n",
       "Name: risotto e piselli variante margarina vegetale, dtype: object"
      ]
     },
     "execution_count": 116,
     "metadata": {},
     "output_type": "execute_result"
    }
   ],
   "source": [
    "day_meals.loc['risotto e piselli variante margarina vegetale']"
   ]
  },
  {
   "cell_type": "code",
   "execution_count": 103,
   "metadata": {},
   "outputs": [
    {
     "data": {
      "text/html": [
       "<div>\n",
       "<style scoped>\n",
       "    .dataframe tbody tr th:only-of-type {\n",
       "        vertical-align: middle;\n",
       "    }\n",
       "\n",
       "    .dataframe tbody tr th {\n",
       "        vertical-align: top;\n",
       "    }\n",
       "\n",
       "    .dataframe thead th {\n",
       "        text-align: right;\n",
       "    }\n",
       "</style>\n",
       "<table border=\"1\" class=\"dataframe\">\n",
       "  <thead>\n",
       "    <tr style=\"text-align: right;\">\n",
       "      <th></th>\n",
       "      <th>quantity</th>\n",
       "      <th>Energia - kcal</th>\n",
       "      <th>Proteine totali</th>\n",
       "      <th>Proteine animali</th>\n",
       "      <th>Proteine vegetali</th>\n",
       "      <th>Lipidi totali</th>\n",
       "      <th>Lipidi animali</th>\n",
       "      <th>Lipidi vegetali</th>\n",
       "      <th>Lipidi saturi</th>\n",
       "      <th>Colesterolo</th>\n",
       "      <th>Fibra alimentare</th>\n",
       "      <th>Na</th>\n",
       "    </tr>\n",
       "    <tr>\n",
       "      <th>nome</th>\n",
       "      <th></th>\n",
       "      <th></th>\n",
       "      <th></th>\n",
       "      <th></th>\n",
       "      <th></th>\n",
       "      <th></th>\n",
       "      <th></th>\n",
       "      <th></th>\n",
       "      <th></th>\n",
       "      <th></th>\n",
       "      <th></th>\n",
       "      <th></th>\n",
       "    </tr>\n",
       "  </thead>\n",
       "  <tbody>\n",
       "    <tr>\n",
       "      <td>riso alla cinese variante margarina vegetale variante uovo di gallina, albume</td>\n",
       "      <td>1241.800629</td>\n",
       "      <td>3293.897620</td>\n",
       "      <td>109.2</td>\n",
       "      <td>61.538392</td>\n",
       "      <td>47.661608</td>\n",
       "      <td>175.494746</td>\n",
       "      <td>24.517288</td>\n",
       "      <td>150.977458</td>\n",
       "      <td>45.903718</td>\n",
       "      <td>83.358779</td>\n",
       "      <td>44.278222</td>\n",
       "      <td>3928.895375</td>\n",
       "    </tr>\n",
       "    <tr>\n",
       "      <td>risotto ai funghi variante margarina vegetale</td>\n",
       "      <td>1667.058824</td>\n",
       "      <td>4686.117647</td>\n",
       "      <td>109.2</td>\n",
       "      <td>46.537815</td>\n",
       "      <td>62.662185</td>\n",
       "      <td>236.315966</td>\n",
       "      <td>32.773109</td>\n",
       "      <td>203.542857</td>\n",
       "      <td>63.684706</td>\n",
       "      <td>111.428571</td>\n",
       "      <td>38.934454</td>\n",
       "      <td>5990.487395</td>\n",
       "    </tr>\n",
       "    <tr>\n",
       "      <td>risotto con asparagi variante margarina vegetale</td>\n",
       "      <td>1599.838710</td>\n",
       "      <td>4522.322581</td>\n",
       "      <td>109.2</td>\n",
       "      <td>44.661290</td>\n",
       "      <td>64.538710</td>\n",
       "      <td>224.900000</td>\n",
       "      <td>31.451613</td>\n",
       "      <td>193.448387</td>\n",
       "      <td>60.613548</td>\n",
       "      <td>106.935484</td>\n",
       "      <td>39.880645</td>\n",
       "      <td>5730.064516</td>\n",
       "    </tr>\n",
       "    <tr>\n",
       "      <td>risotto con seppioline alla veneziana variante margarina vegetale</td>\n",
       "      <td>966.360473</td>\n",
       "      <td>2974.819763</td>\n",
       "      <td>109.2</td>\n",
       "      <td>80.551148</td>\n",
       "      <td>28.648852</td>\n",
       "      <td>137.139596</td>\n",
       "      <td>20.517745</td>\n",
       "      <td>116.621851</td>\n",
       "      <td>36.980070</td>\n",
       "      <td>482.546973</td>\n",
       "      <td>17.528740</td>\n",
       "      <td>3829.725818</td>\n",
       "    </tr>\n",
       "    <tr>\n",
       "      <td>risotto di zucchine variante margarina vegetale</td>\n",
       "      <td>1581.057692</td>\n",
       "      <td>4430.192308</td>\n",
       "      <td>109.2</td>\n",
       "      <td>57.346154</td>\n",
       "      <td>51.853846</td>\n",
       "      <td>226.678846</td>\n",
       "      <td>40.384615</td>\n",
       "      <td>186.294231</td>\n",
       "      <td>65.035385</td>\n",
       "      <td>137.307692</td>\n",
       "      <td>33.559615</td>\n",
       "      <td>5692.211538</td>\n",
       "    </tr>\n",
       "    <tr>\n",
       "      <td>risotto e piselli variante margarina vegetale</td>\n",
       "      <td>1319.554102</td>\n",
       "      <td>4208.614744</td>\n",
       "      <td>109.2</td>\n",
       "      <td>46.095125</td>\n",
       "      <td>63.104875</td>\n",
       "      <td>232.358383</td>\n",
       "      <td>32.461356</td>\n",
       "      <td>199.897027</td>\n",
       "      <td>60.777396</td>\n",
       "      <td>110.368609</td>\n",
       "      <td>58.625208</td>\n",
       "      <td>4585.166468</td>\n",
       "    </tr>\n",
       "    <tr>\n",
       "      <td>risotto gongorzola e noci variante margarina vegetale</td>\n",
       "      <td>884.827109</td>\n",
       "      <td>4011.551867</td>\n",
       "      <td>109.2</td>\n",
       "      <td>65.877455</td>\n",
       "      <td>43.322545</td>\n",
       "      <td>261.596680</td>\n",
       "      <td>81.711203</td>\n",
       "      <td>179.885477</td>\n",
       "      <td>71.923983</td>\n",
       "      <td>239.394191</td>\n",
       "      <td>22.252835</td>\n",
       "      <td>6354.141079</td>\n",
       "    </tr>\n",
       "    <tr>\n",
       "      <td>risotto gongorzola, noci e speck variante margarina vegetale</td>\n",
       "      <td>753.002676</td>\n",
       "      <td>3193.783408</td>\n",
       "      <td>109.2</td>\n",
       "      <td>80.287814</td>\n",
       "      <td>28.912186</td>\n",
       "      <td>202.200214</td>\n",
       "      <td>81.593149</td>\n",
       "      <td>120.607065</td>\n",
       "      <td>57.891586</td>\n",
       "      <td>273.535772</td>\n",
       "      <td>15.410740</td>\n",
       "      <td>7851.684567</td>\n",
       "    </tr>\n",
       "    <tr>\n",
       "      <td>risotto radicchio gorgoznola variante margarina vegetale</td>\n",
       "      <td>1324.658786</td>\n",
       "      <td>3852.806018</td>\n",
       "      <td>109.2</td>\n",
       "      <td>71.088555</td>\n",
       "      <td>38.111445</td>\n",
       "      <td>221.421924</td>\n",
       "      <td>86.080817</td>\n",
       "      <td>135.341107</td>\n",
       "      <td>73.377002</td>\n",
       "      <td>253.489522</td>\n",
       "      <td>31.862225</td>\n",
       "      <td>7008.809242</td>\n",
       "    </tr>\n",
       "    <tr>\n",
       "      <td>risotto salsiccia e zucchine variante margarina vegetale</td>\n",
       "      <td>1352.013371</td>\n",
       "      <td>3826.913860</td>\n",
       "      <td>109.2</td>\n",
       "      <td>73.146310</td>\n",
       "      <td>36.053690</td>\n",
       "      <td>225.560195</td>\n",
       "      <td>96.030856</td>\n",
       "      <td>129.529339</td>\n",
       "      <td>74.898452</td>\n",
       "      <td>245.692980</td>\n",
       "      <td>23.333813</td>\n",
       "      <td>6921.241450</td>\n",
       "    </tr>\n",
       "  </tbody>\n",
       "</table>\n",
       "</div>"
      ],
      "text/plain": [
       "                                                       quantity  \\\n",
       "nome                                                              \n",
       "riso alla cinese variante margarina vegetale va...  1241.800629   \n",
       "risotto ai funghi variante margarina vegetale       1667.058824   \n",
       "risotto con asparagi variante margarina vegetale    1599.838710   \n",
       "risotto con seppioline alla veneziana variante ...   966.360473   \n",
       "risotto di zucchine variante margarina vegetale     1581.057692   \n",
       "risotto e piselli variante margarina vegetale       1319.554102   \n",
       "risotto gongorzola e noci variante margarina ve...   884.827109   \n",
       "risotto gongorzola, noci e speck variante marga...   753.002676   \n",
       "risotto radicchio gorgoznola variante margarina...  1324.658786   \n",
       "risotto salsiccia e zucchine variante margarina...  1352.013371   \n",
       "\n",
       "                                                    Energia - kcal  \\\n",
       "nome                                                                 \n",
       "riso alla cinese variante margarina vegetale va...     3293.897620   \n",
       "risotto ai funghi variante margarina vegetale          4686.117647   \n",
       "risotto con asparagi variante margarina vegetale       4522.322581   \n",
       "risotto con seppioline alla veneziana variante ...     2974.819763   \n",
       "risotto di zucchine variante margarina vegetale        4430.192308   \n",
       "risotto e piselli variante margarina vegetale          4208.614744   \n",
       "risotto gongorzola e noci variante margarina ve...     4011.551867   \n",
       "risotto gongorzola, noci e speck variante marga...     3193.783408   \n",
       "risotto radicchio gorgoznola variante margarina...     3852.806018   \n",
       "risotto salsiccia e zucchine variante margarina...     3826.913860   \n",
       "\n",
       "                                                    Proteine totali  \\\n",
       "nome                                                                  \n",
       "riso alla cinese variante margarina vegetale va...            109.2   \n",
       "risotto ai funghi variante margarina vegetale                 109.2   \n",
       "risotto con asparagi variante margarina vegetale              109.2   \n",
       "risotto con seppioline alla veneziana variante ...            109.2   \n",
       "risotto di zucchine variante margarina vegetale               109.2   \n",
       "risotto e piselli variante margarina vegetale                 109.2   \n",
       "risotto gongorzola e noci variante margarina ve...            109.2   \n",
       "risotto gongorzola, noci e speck variante marga...            109.2   \n",
       "risotto radicchio gorgoznola variante margarina...            109.2   \n",
       "risotto salsiccia e zucchine variante margarina...            109.2   \n",
       "\n",
       "                                                    Proteine animali  \\\n",
       "nome                                                                   \n",
       "riso alla cinese variante margarina vegetale va...         61.538392   \n",
       "risotto ai funghi variante margarina vegetale              46.537815   \n",
       "risotto con asparagi variante margarina vegetale           44.661290   \n",
       "risotto con seppioline alla veneziana variante ...         80.551148   \n",
       "risotto di zucchine variante margarina vegetale            57.346154   \n",
       "risotto e piselli variante margarina vegetale              46.095125   \n",
       "risotto gongorzola e noci variante margarina ve...         65.877455   \n",
       "risotto gongorzola, noci e speck variante marga...         80.287814   \n",
       "risotto radicchio gorgoznola variante margarina...         71.088555   \n",
       "risotto salsiccia e zucchine variante margarina...         73.146310   \n",
       "\n",
       "                                                    Proteine vegetali  \\\n",
       "nome                                                                    \n",
       "riso alla cinese variante margarina vegetale va...          47.661608   \n",
       "risotto ai funghi variante margarina vegetale               62.662185   \n",
       "risotto con asparagi variante margarina vegetale            64.538710   \n",
       "risotto con seppioline alla veneziana variante ...          28.648852   \n",
       "risotto di zucchine variante margarina vegetale             51.853846   \n",
       "risotto e piselli variante margarina vegetale               63.104875   \n",
       "risotto gongorzola e noci variante margarina ve...          43.322545   \n",
       "risotto gongorzola, noci e speck variante marga...          28.912186   \n",
       "risotto radicchio gorgoznola variante margarina...          38.111445   \n",
       "risotto salsiccia e zucchine variante margarina...          36.053690   \n",
       "\n",
       "                                                    Lipidi totali  \\\n",
       "nome                                                                \n",
       "riso alla cinese variante margarina vegetale va...     175.494746   \n",
       "risotto ai funghi variante margarina vegetale          236.315966   \n",
       "risotto con asparagi variante margarina vegetale       224.900000   \n",
       "risotto con seppioline alla veneziana variante ...     137.139596   \n",
       "risotto di zucchine variante margarina vegetale        226.678846   \n",
       "risotto e piselli variante margarina vegetale          232.358383   \n",
       "risotto gongorzola e noci variante margarina ve...     261.596680   \n",
       "risotto gongorzola, noci e speck variante marga...     202.200214   \n",
       "risotto radicchio gorgoznola variante margarina...     221.421924   \n",
       "risotto salsiccia e zucchine variante margarina...     225.560195   \n",
       "\n",
       "                                                    Lipidi animali  \\\n",
       "nome                                                                 \n",
       "riso alla cinese variante margarina vegetale va...       24.517288   \n",
       "risotto ai funghi variante margarina vegetale            32.773109   \n",
       "risotto con asparagi variante margarina vegetale         31.451613   \n",
       "risotto con seppioline alla veneziana variante ...       20.517745   \n",
       "risotto di zucchine variante margarina vegetale          40.384615   \n",
       "risotto e piselli variante margarina vegetale            32.461356   \n",
       "risotto gongorzola e noci variante margarina ve...       81.711203   \n",
       "risotto gongorzola, noci e speck variante marga...       81.593149   \n",
       "risotto radicchio gorgoznola variante margarina...       86.080817   \n",
       "risotto salsiccia e zucchine variante margarina...       96.030856   \n",
       "\n",
       "                                                    Lipidi vegetali  \\\n",
       "nome                                                                  \n",
       "riso alla cinese variante margarina vegetale va...       150.977458   \n",
       "risotto ai funghi variante margarina vegetale            203.542857   \n",
       "risotto con asparagi variante margarina vegetale         193.448387   \n",
       "risotto con seppioline alla veneziana variante ...       116.621851   \n",
       "risotto di zucchine variante margarina vegetale          186.294231   \n",
       "risotto e piselli variante margarina vegetale            199.897027   \n",
       "risotto gongorzola e noci variante margarina ve...       179.885477   \n",
       "risotto gongorzola, noci e speck variante marga...       120.607065   \n",
       "risotto radicchio gorgoznola variante margarina...       135.341107   \n",
       "risotto salsiccia e zucchine variante margarina...       129.529339   \n",
       "\n",
       "                                                    Lipidi saturi  \\\n",
       "nome                                                                \n",
       "riso alla cinese variante margarina vegetale va...      45.903718   \n",
       "risotto ai funghi variante margarina vegetale           63.684706   \n",
       "risotto con asparagi variante margarina vegetale        60.613548   \n",
       "risotto con seppioline alla veneziana variante ...      36.980070   \n",
       "risotto di zucchine variante margarina vegetale         65.035385   \n",
       "risotto e piselli variante margarina vegetale           60.777396   \n",
       "risotto gongorzola e noci variante margarina ve...      71.923983   \n",
       "risotto gongorzola, noci e speck variante marga...      57.891586   \n",
       "risotto radicchio gorgoznola variante margarina...      73.377002   \n",
       "risotto salsiccia e zucchine variante margarina...      74.898452   \n",
       "\n",
       "                                                    Colesterolo  \\\n",
       "nome                                                              \n",
       "riso alla cinese variante margarina vegetale va...    83.358779   \n",
       "risotto ai funghi variante margarina vegetale        111.428571   \n",
       "risotto con asparagi variante margarina vegetale     106.935484   \n",
       "risotto con seppioline alla veneziana variante ...   482.546973   \n",
       "risotto di zucchine variante margarina vegetale      137.307692   \n",
       "risotto e piselli variante margarina vegetale        110.368609   \n",
       "risotto gongorzola e noci variante margarina ve...   239.394191   \n",
       "risotto gongorzola, noci e speck variante marga...   273.535772   \n",
       "risotto radicchio gorgoznola variante margarina...   253.489522   \n",
       "risotto salsiccia e zucchine variante margarina...   245.692980   \n",
       "\n",
       "                                                    Fibra alimentare   \\\n",
       "nome                                                                    \n",
       "riso alla cinese variante margarina vegetale va...          44.278222   \n",
       "risotto ai funghi variante margarina vegetale               38.934454   \n",
       "risotto con asparagi variante margarina vegetale            39.880645   \n",
       "risotto con seppioline alla veneziana variante ...          17.528740   \n",
       "risotto di zucchine variante margarina vegetale             33.559615   \n",
       "risotto e piselli variante margarina vegetale               58.625208   \n",
       "risotto gongorzola e noci variante margarina ve...          22.252835   \n",
       "risotto gongorzola, noci e speck variante marga...          15.410740   \n",
       "risotto radicchio gorgoznola variante margarina...          31.862225   \n",
       "risotto salsiccia e zucchine variante margarina...          23.333813   \n",
       "\n",
       "                                                             Na  \n",
       "nome                                                             \n",
       "riso alla cinese variante margarina vegetale va...  3928.895375  \n",
       "risotto ai funghi variante margarina vegetale       5990.487395  \n",
       "risotto con asparagi variante margarina vegetale    5730.064516  \n",
       "risotto con seppioline alla veneziana variante ...  3829.725818  \n",
       "risotto di zucchine variante margarina vegetale     5692.211538  \n",
       "risotto e piselli variante margarina vegetale       4585.166468  \n",
       "risotto gongorzola e noci variante margarina ve...  6354.141079  \n",
       "risotto gongorzola, noci e speck variante marga...  7851.684567  \n",
       "risotto radicchio gorgoznola variante margarina...  7008.809242  \n",
       "risotto salsiccia e zucchine variante margarina...  6921.241450  "
      ]
     },
     "execution_count": 103,
     "metadata": {},
     "output_type": "execute_result"
    }
   ],
   "source": [
    "select_rec"
   ]
  },
  {
   "cell_type": "code",
   "execution_count": 99,
   "metadata": {},
   "outputs": [
    {
     "data": {
      "text/plain": [
       "19.6"
      ]
     },
     "execution_count": 99,
     "metadata": {},
     "output_type": "execute_result"
    }
   ],
   "source": [
    "empty_weights[empty_weights['nome'] == 'risotto con asparagi variante margarina vegetale'].sum()['Energia - kcal']"
   ]
  },
  {
   "cell_type": "code",
   "execution_count": null,
   "metadata": {},
   "outputs": [],
   "source": [
    "if meal_type_selector not in ['veg_side', 'carb_side']:\n",
    "    empty_weights = rec_values[[True if i in non_weight else False for i in rec_values['ingredient']]]\n",
    "    empty_sum = empty_weights[empty_weights['type'] == meal_type_selector][important_values].groupby(\n",
    "        'nome').agg(sum)\n",
    "\n",
    "    common = list(set(empty_sum.index) & set(select_rec.index))\n",
    "    a = select_rec['quantity'].copy()\n",
    "    select_rec.loc[common, 'quantity'] = select_rec.loc[common, 'quantity'] - empty_sum.loc[common, 'quantity']\n",
    "    if (a - select_rec['quantity']).sum() == 0:\n",
    "        print('no weight removed')\n",
    "    # print(str((a - select_rec['quantity']).sum()) + ' weight removed')\n",
    "\n",
    "target = how_many[meal_type_selector][value]\n",
    "select_rec = select_rec.div(select_rec['quantity'], axis = 0)\n",
    "nec_quant = target / select_rec[value]\n",
    "select_rec = select_rec.multiply(nec_quant, axis = 0)"
   ]
  },
  {
   "cell_type": "code",
   "execution_count": 42,
   "metadata": {
    "scrolled": true
   },
   "outputs": [
    {
     "data": {
      "text/html": [
       "<div>\n",
       "<style scoped>\n",
       "    .dataframe tbody tr th:only-of-type {\n",
       "        vertical-align: middle;\n",
       "    }\n",
       "\n",
       "    .dataframe tbody tr th {\n",
       "        vertical-align: top;\n",
       "    }\n",
       "\n",
       "    .dataframe thead th {\n",
       "        text-align: right;\n",
       "    }\n",
       "</style>\n",
       "<table border=\"1\" class=\"dataframe\">\n",
       "  <thead>\n",
       "    <tr style=\"text-align: right;\">\n",
       "      <th></th>\n",
       "      <th>quantity</th>\n",
       "      <th>Energia - kcal</th>\n",
       "      <th>Proteine totali</th>\n",
       "    </tr>\n",
       "    <tr>\n",
       "      <th>nome</th>\n",
       "      <th></th>\n",
       "      <th></th>\n",
       "      <th></th>\n",
       "    </tr>\n",
       "  </thead>\n",
       "  <tbody>\n",
       "    <tr>\n",
       "      <td>carne alla pizzaiola</td>\n",
       "      <td>261.330063</td>\n",
       "      <td>822.864471</td>\n",
       "      <td>54.6</td>\n",
       "    </tr>\n",
       "    <tr>\n",
       "      <td>braciola di maiale variante margarina vegetale</td>\n",
       "      <td>324.775862</td>\n",
       "      <td>788.606897</td>\n",
       "      <td>54.6</td>\n",
       "    </tr>\n",
       "    <tr>\n",
       "      <td>filetto di vitello alla piastra variante margarina vegetale</td>\n",
       "      <td>324.775862</td>\n",
       "      <td>788.606897</td>\n",
       "      <td>54.6</td>\n",
       "    </tr>\n",
       "    <tr>\n",
       "      <td>spezzatino di carne</td>\n",
       "      <td>341.852352</td>\n",
       "      <td>553.823487</td>\n",
       "      <td>54.6</td>\n",
       "    </tr>\n",
       "    <tr>\n",
       "      <td>agnello brucialingua</td>\n",
       "      <td>358.724011</td>\n",
       "      <td>665.682785</td>\n",
       "      <td>54.6</td>\n",
       "    </tr>\n",
       "    <tr>\n",
       "      <td>arrosto di latte variante margarina vegetale</td>\n",
       "      <td>389.910591</td>\n",
       "      <td>876.078404</td>\n",
       "      <td>54.6</td>\n",
       "    </tr>\n",
       "    <tr>\n",
       "      <td>risotto gongorzola, noci e speck variante margarina vegetale</td>\n",
       "      <td>753.002676</td>\n",
       "      <td>3193.783408</td>\n",
       "      <td>109.2</td>\n",
       "    </tr>\n",
       "    <tr>\n",
       "      <td>risotto e piselli variante margarina vegetale</td>\n",
       "      <td>832.633769</td>\n",
       "      <td>4208.614744</td>\n",
       "      <td>109.2</td>\n",
       "    </tr>\n",
       "    <tr>\n",
       "      <td>riso alla cinese variante margarina vegetale variante uovo di gallina, albume</td>\n",
       "      <td>874.041311</td>\n",
       "      <td>3293.897620</td>\n",
       "      <td>109.2</td>\n",
       "    </tr>\n",
       "    <tr>\n",
       "      <td>risotto gongorzola e noci variante margarina vegetale</td>\n",
       "      <td>884.827109</td>\n",
       "      <td>4011.551867</td>\n",
       "      <td>109.2</td>\n",
       "    </tr>\n",
       "    <tr>\n",
       "      <td>risotto con seppioline alla veneziana variante margarina vegetale</td>\n",
       "      <td>966.360473</td>\n",
       "      <td>2974.819763</td>\n",
       "      <td>109.2</td>\n",
       "    </tr>\n",
       "    <tr>\n",
       "      <td>risotto radicchio gorgoznola variante margarina vegetale</td>\n",
       "      <td>1324.658786</td>\n",
       "      <td>3852.806018</td>\n",
       "      <td>109.2</td>\n",
       "    </tr>\n",
       "    <tr>\n",
       "      <td>pancake proteico con cioccolato</td>\n",
       "      <td>70.378964</td>\n",
       "      <td>133.860789</td>\n",
       "      <td>18.2</td>\n",
       "    </tr>\n",
       "    <tr>\n",
       "      <td>pancake proteico con yogurt</td>\n",
       "      <td>98.840206</td>\n",
       "      <td>159.735825</td>\n",
       "      <td>18.2</td>\n",
       "    </tr>\n",
       "    <tr>\n",
       "      <td>pancake proteico con yogurt e frutta</td>\n",
       "      <td>131.336821</td>\n",
       "      <td>191.029406</td>\n",
       "      <td>18.2</td>\n",
       "    </tr>\n",
       "    <tr>\n",
       "      <td>uova e formaggio</td>\n",
       "      <td>144.772727</td>\n",
       "      <td>241.356818</td>\n",
       "      <td>18.2</td>\n",
       "    </tr>\n",
       "    <tr>\n",
       "      <td>uova e formaggio, variante 1 variante uovo di gallina, albume</td>\n",
       "      <td>148.251078</td>\n",
       "      <td>215.836128</td>\n",
       "      <td>18.2</td>\n",
       "    </tr>\n",
       "    <tr>\n",
       "      <td>uova e bacon</td>\n",
       "      <td>156.297710</td>\n",
       "      <td>432.250000</td>\n",
       "      <td>18.2</td>\n",
       "    </tr>\n",
       "    <tr>\n",
       "      <td>uova e bacon, variante variante uovo di gallina, albume</td>\n",
       "      <td>157.738341</td>\n",
       "      <td>384.505984</td>\n",
       "      <td>18.2</td>\n",
       "    </tr>\n",
       "    <tr>\n",
       "      <td>yogurt e cereali con frutta variante muesli proteico foodspring</td>\n",
       "      <td>176.699029</td>\n",
       "      <td>282.806796</td>\n",
       "      <td>18.2</td>\n",
       "    </tr>\n",
       "    <tr>\n",
       "      <td>avocado toast</td>\n",
       "      <td>220.189036</td>\n",
       "      <td>449.185633</td>\n",
       "      <td>18.2</td>\n",
       "    </tr>\n",
       "  </tbody>\n",
       "</table>\n",
       "</div>"
      ],
      "text/plain": [
       "                                                       quantity  \\\n",
       "nome                                                              \n",
       "carne alla pizzaiola                                 261.330063   \n",
       "braciola di maiale variante margarina vegetale       324.775862   \n",
       "filetto di vitello alla piastra variante margar...   324.775862   \n",
       "spezzatino di carne                                  341.852352   \n",
       "agnello brucialingua                                 358.724011   \n",
       "arrosto di latte variante margarina vegetale         389.910591   \n",
       "risotto gongorzola, noci e speck variante marga...   753.002676   \n",
       "risotto e piselli variante margarina vegetale        832.633769   \n",
       "riso alla cinese variante margarina vegetale va...   874.041311   \n",
       "risotto gongorzola e noci variante margarina ve...   884.827109   \n",
       "risotto con seppioline alla veneziana variante ...   966.360473   \n",
       "risotto radicchio gorgoznola variante margarina...  1324.658786   \n",
       "pancake proteico con cioccolato                       70.378964   \n",
       "pancake proteico con yogurt                           98.840206   \n",
       "pancake proteico con yogurt e frutta                 131.336821   \n",
       "uova e formaggio                                     144.772727   \n",
       "uova e formaggio, variante 1 variante uovo di g...   148.251078   \n",
       "uova e bacon                                         156.297710   \n",
       "uova e bacon, variante variante uovo di gallina...   157.738341   \n",
       "yogurt e cereali con frutta variante muesli pro...   176.699029   \n",
       "avocado toast                                        220.189036   \n",
       "\n",
       "                                                    Energia - kcal  \\\n",
       "nome                                                                 \n",
       "carne alla pizzaiola                                    822.864471   \n",
       "braciola di maiale variante margarina vegetale          788.606897   \n",
       "filetto di vitello alla piastra variante margar...      788.606897   \n",
       "spezzatino di carne                                     553.823487   \n",
       "agnello brucialingua                                    665.682785   \n",
       "arrosto di latte variante margarina vegetale            876.078404   \n",
       "risotto gongorzola, noci e speck variante marga...     3193.783408   \n",
       "risotto e piselli variante margarina vegetale          4208.614744   \n",
       "riso alla cinese variante margarina vegetale va...     3293.897620   \n",
       "risotto gongorzola e noci variante margarina ve...     4011.551867   \n",
       "risotto con seppioline alla veneziana variante ...     2974.819763   \n",
       "risotto radicchio gorgoznola variante margarina...     3852.806018   \n",
       "pancake proteico con cioccolato                         133.860789   \n",
       "pancake proteico con yogurt                             159.735825   \n",
       "pancake proteico con yogurt e frutta                    191.029406   \n",
       "uova e formaggio                                        241.356818   \n",
       "uova e formaggio, variante 1 variante uovo di g...      215.836128   \n",
       "uova e bacon                                            432.250000   \n",
       "uova e bacon, variante variante uovo di gallina...      384.505984   \n",
       "yogurt e cereali con frutta variante muesli pro...      282.806796   \n",
       "avocado toast                                           449.185633   \n",
       "\n",
       "                                                    Proteine totali  \n",
       "nome                                                                 \n",
       "carne alla pizzaiola                                           54.6  \n",
       "braciola di maiale variante margarina vegetale                 54.6  \n",
       "filetto di vitello alla piastra variante margar...             54.6  \n",
       "spezzatino di carne                                            54.6  \n",
       "agnello brucialingua                                           54.6  \n",
       "arrosto di latte variante margarina vegetale                   54.6  \n",
       "risotto gongorzola, noci e speck variante marga...            109.2  \n",
       "risotto e piselli variante margarina vegetale                 109.2  \n",
       "riso alla cinese variante margarina vegetale va...            109.2  \n",
       "risotto gongorzola e noci variante margarina ve...            109.2  \n",
       "risotto con seppioline alla veneziana variante ...            109.2  \n",
       "risotto radicchio gorgoznola variante margarina...            109.2  \n",
       "pancake proteico con cioccolato                                18.2  \n",
       "pancake proteico con yogurt                                    18.2  \n",
       "pancake proteico con yogurt e frutta                           18.2  \n",
       "uova e formaggio                                               18.2  \n",
       "uova e formaggio, variante 1 variante uovo di g...             18.2  \n",
       "uova e bacon                                                   18.2  \n",
       "uova e bacon, variante variante uovo di gallina...             18.2  \n",
       "yogurt e cereali con frutta variante muesli pro...             18.2  \n",
       "avocado toast                                                  18.2  "
      ]
     },
     "execution_count": 42,
     "metadata": {},
     "output_type": "execute_result"
    }
   ],
   "source": [
    "day_meals[['quantity', 'Energia - kcal', 'Proteine totali']]"
   ]
  },
  {
   "cell_type": "code",
   "execution_count": null,
   "metadata": {},
   "outputs": [],
   "source": [
    "    \n",
    "\n",
    "    \n",
    "    day_meals = day_meals.append(chosen_meal)\n",
    "\n",
    "# add one vegetarian side \n",
    "selected = randrange(len(veg_sides))\n",
    "day_meals = day_meals.append(veg_sides.iloc[selected])\n",
    "    \n",
    "# calculate loss of values\n",
    "loss = day_meals.sum()[how_many.index] - how_many[['dinner', 'lunch', 'breakfast']].sum(axis = 1)\n",
    "print(loss[['Energia - kcal', 'Proteine totali']])\n",
    "day_meals[day_meals.columns[::-1]]"
   ]
  },
  {
   "cell_type": "code",
   "execution_count": null,
   "metadata": {},
   "outputs": [],
   "source": [
    "change_quantity(rec_values[rec_values['nome'] == 'shake proteico rinforzato'].sum()[num_values], 200)"
   ]
  },
  {
   "cell_type": "code",
   "execution_count": null,
   "metadata": {},
   "outputs": [],
   "source": [
    "def create_base_3(rec_values = rec_values, \n",
    "                  value = value, \n",
    "                  day_type = day_type, \n",
    "                  n_good_ones = n_good_ones,\n",
    "                  stopper = stopper):\n",
    "\n",
    "    day_meals = {\n",
    "        'dinner': '',\n",
    "        'lunch': '',\n",
    "        'breakfast': '',\n",
    "    }\n",
    "  \n",
    "    # choose type of meal\n",
    "    for meal_type_selector in ['dinner', 'lunch', 'breakfast']:\n",
    "        # select recipts for that particular meal with that specific ingredient with the protein quantity right\n",
    "        select_rec = get_selection(meal_type_selector, value, day_type)\n",
    "        # choose randomly \n",
    "        random_rec = get_choice(select_rec, n_good_ones, stopper)\n",
    "        random_rec['meal_type'] = meal_type_selector\n",
    "        day_meals[random_rec.name] = random_rec\n",
    "    day_meals = pd.DataFrame(day_meals)\n",
    "    day_meals = day_meals.drop(['dinner', 'lunch', 'breakfast'], axis = 1).T\n",
    "    \n",
    "    return day_meals"
   ]
  },
  {
   "cell_type": "markdown",
   "metadata": {},
   "source": [
    "#### Estimate average loss"
   ]
  },
  {
   "cell_type": "code",
   "execution_count": null,
   "metadata": {},
   "outputs": [],
   "source": [
    "# choose type of nutrient value to cap\n",
    "value = 'Proteine totali'\n",
    "# choose type of ingredient \n",
    "day_type = 'random' # stable or random\n",
    "# minimum number to start with\n",
    "n_good_ones = 6\n",
    "# stopper is the min num of different recipies that we will end up with to choose from\n",
    "stopper = 4\n",
    "\n",
    "loss_list = pd.DataFrame({})\n",
    "\n",
    "for i in range(50):\n",
    "    # print(str(i) + ' '*10, flush = True, end = '\\r')\n",
    "    day_meals = create_base_3()\n",
    "    loss = day_meals.sum()[how_many.index] - how_many[day_meals_names.keys()].sum(axis = 1)\n",
    "    loss.name = i\n",
    "    loss_list = loss_list.append(loss)"
   ]
  },
  {
   "cell_type": "code",
   "execution_count": null,
   "metadata": {
    "scrolled": false
   },
   "outputs": [],
   "source": [
    "fig, ax = plt.subplots(1, 1, figsize = (16, 8))\n",
    "loss_list.plot(ax = ax)"
   ]
  },
  {
   "cell_type": "code",
   "execution_count": null,
   "metadata": {
    "scrolled": false
   },
   "outputs": [],
   "source": [
    "loss_list.mean()"
   ]
  },
  {
   "cell_type": "markdown",
   "metadata": {},
   "source": [
    "#### Calculate stable day meal"
   ]
  },
  {
   "cell_type": "code",
   "execution_count": null,
   "metadata": {},
   "outputs": [],
   "source": [
    "# choose type of nutrient value to cap\n",
    "value = 'Proteine totali'\n",
    "# choose type of ingredient \n",
    "day_type = 'stable'\n",
    "# minimum number to start with\n",
    "n_good_ones = 6\n",
    "# stopper is the min num of different recipies that we will end up with to choose from\n",
    "stopper = 4\n",
    "\n",
    "loss_list = pd.DataFrame({})\n",
    "# get meals\n",
    "day_meals = create_base_3()\n",
    "# calculate loss of values\n",
    "loss = day_meals.sum()[how_many.index] - how_many[day_meals_names.keys()].sum(axis = 1)\n",
    "loss.name = i\n",
    "# get reaminder to compensate\n",
    "remainer = ((how_many['side'] * 2) - loss)\n",
    "remainer.loc[remainer < 0] = 0\n",
    "# select snacks \n",
    "meal_type_selector = 'snack'\n",
    "value = 'Proteine totali'\n",
    "select_rec = rec_values[rec_values['type'] == meal_type_selector][important_values].groupby(\n",
    "    'nome').agg(sum)\n",
    "\n",
    "empty_weights = rec_values[[True if i in non_weight else False for i in rec_values['ingredient']]]\n",
    "empty_sum = empty_weights[empty_weights['type'] == meal_type_selector][important_values].groupby(\n",
    "    'nome').agg(sum)\n",
    "\n",
    "common = list(set(empty_sum.index) & set(select_rec.index))\n",
    "a = select_rec['quantity'].copy()\n",
    "select_rec.loc[common, 'quantity'] = select_rec.loc[common, 'quantity'] - empty_sum.loc[common, 'quantity']\n",
    "if (a - select_rec['quantity']).sum() == 0:\n",
    "    print('no weight removed')\n",
    "# get fruits indexes \n",
    "frutta_index = [i for i in select_rec.index if (i[:6] == 'frutta') & (len(i) < 10)]"
   ]
  },
  {
   "cell_type": "code",
   "execution_count": null,
   "metadata": {},
   "outputs": [],
   "source": [
    "day_meals"
   ]
  },
  {
   "cell_type": "code",
   "execution_count": null,
   "metadata": {},
   "outputs": [],
   "source": [
    "def get_n_values(select_rec, how_much, value):\n",
    "    return select_rec.multiply(how_much / select_rec[value], axis = 0).sort_values('quantity')"
   ]
  },
  {
   "cell_type": "code",
   "execution_count": null,
   "metadata": {},
   "outputs": [],
   "source": [
    "# get first snack \n",
    "snack_1_cand = (remainer - select_rec[remainer.index]).sort_values('Energia - kcal').iloc[:10].index\n",
    "# get candiates snacks\n",
    "candi_snack = get_n_values(select_rec.loc[snack_1_cand], (remainer['Energia - kcal'] - 100), 'Energia - kcal')\n",
    "# select using function of before\n",
    "snack_of_choice = get_choice(candi_snack, 6, 6)"
   ]
  },
  {
   "cell_type": "code",
   "execution_count": null,
   "metadata": {},
   "outputs": [],
   "source": [
    "# get 100 kcals of fruit\n",
    "fruit_quant = get_n_values(select_rec.loc[frutta_index], 100, 'Energia - kcal')[1:15]['quantity']\n",
    "# get free fruit for the last 100 kcals\n",
    "free_fruit = rec_values[['ingredient', 'nome']].set_index('nome').loc[frutta_index].merge(\n",
    "    fruit_quant, left_index = True, right_index = True)"
   ]
  },
  {
   "cell_type": "code",
   "execution_count": null,
   "metadata": {},
   "outputs": [],
   "source": [
    "def get_ingredient_list(food_values, food_name, quantity):\n",
    "    ing = rec_values[rec_values['nome'] == food_name]\n",
    "    mult = quantity / ing['quantity'].sum()\n",
    "    ing[food_values.index[:-1]] = (ing[food_values.index[:-1]] * mult).astype('int')\n",
    "    return ing"
   ]
  },
  {
   "cell_type": "code",
   "execution_count": null,
   "metadata": {},
   "outputs": [],
   "source": [
    "get_ingredient_list(snack_of_choice, snack_of_choice.name, snack_of_choice.quantity)[important_values]"
   ]
  },
  {
   "cell_type": "code",
   "execution_count": null,
   "metadata": {
    "scrolled": false
   },
   "outputs": [],
   "source": [
    "l = pd.DataFrame({})\n",
    "for idx, row in day_meals.iterrows():\n",
    "    l = l.append(get_ingredient_list(row[:-2], row.name, row.quantity))\n",
    "l[l['type'] == 'lunch']"
   ]
  },
  {
   "cell_type": "code",
   "execution_count": null,
   "metadata": {},
   "outputs": [],
   "source": [
    "food_name = snack_of_choice.name\n",
    "quantity = snack_of_choice.quantity\n",
    "food_values = snack_of_choice\n",
    "ing = rec_values[rec_values['nome'] == food_name]\n",
    "# print(ing)\n",
    "mult = quantity / ing['quantity'].sum()\n",
    "ing[food_values.index[:-1]] = (ing[food_values.index[:-1]] * mult).astype('int')\n",
    "ing.sum() #[['quantity', 'ingredient', 'nome'][::-1]]"
   ]
  },
  {
   "cell_type": "code",
   "execution_count": null,
   "metadata": {},
   "outputs": [],
   "source": [
    "snack_of_choice"
   ]
  },
  {
   "cell_type": "code",
   "execution_count": null,
   "metadata": {},
   "outputs": [],
   "source": [
    "get_ingredient_list(snack_of_choice, snack_of_choice.name, snack_of_choice.quantity)"
   ]
  },
  {
   "cell_type": "code",
   "execution_count": null,
   "metadata": {},
   "outputs": [],
   "source": [
    "snack_of_choice.index"
   ]
  },
  {
   "cell_type": "code",
   "execution_count": null,
   "metadata": {
    "scrolled": true
   },
   "outputs": [],
   "source": [
    "free_fruit.iloc[0]"
   ]
  },
  {
   "cell_type": "code",
   "execution_count": null,
   "metadata": {},
   "outputs": [],
   "source": []
  }
 ],
 "metadata": {
  "kernelspec": {
   "display_name": "Python 3",
   "language": "python",
   "name": "python3"
  },
  "language_info": {
   "codemirror_mode": {
    "name": "ipython",
    "version": 3
   },
   "file_extension": ".py",
   "mimetype": "text/x-python",
   "name": "python",
   "nbconvert_exporter": "python",
   "pygments_lexer": "ipython3",
   "version": "3.7.4"
  }
 },
 "nbformat": 4,
 "nbformat_minor": 2
}
